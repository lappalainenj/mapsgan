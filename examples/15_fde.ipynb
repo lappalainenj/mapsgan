{
 "cells": [
  {
   "cell_type": "code",
   "execution_count": null,
   "metadata": {},
   "outputs": [],
   "source": [
    "%load_ext autoreload\n",
    "%autoreload 2\n",
    "import numpy as np\n",
    "import torch\n",
    "from torch import nn\n",
    "from mapsgan import BaseSolver, experiments, data_loader\n",
    "from mapsgan import ToyGenerator, ToyDiscriminator, BicycleGenerator, norm_scene, cos_scene\n",
    "from mapsgan.evaluation import Visualization\n",
    "from sgan import TrajectoryDiscriminator, TrajectoryGenerator\n",
    "import matplotlib.pyplot as plt\n",
    "from scipy.spatial.distance import squareform, pdist\n",
    "import os\n",
    "model_path = '../models/cloud/'\n",
    "os.listdir(model_path)"
   ]
  },
  {
   "cell_type": "code",
   "execution_count": null,
   "metadata": {},
   "outputs": [],
   "source": [
    "in_len, out_len = 8, 12\n",
    "sgangenerator = TrajectoryGenerator(obs_len=8,\n",
    "                                pred_len=12,\n",
    "                                embedding_dim=16,\n",
    "                                encoder_h_dim=32,\n",
    "                                decoder_h_dim=32,\n",
    "                                mlp_dim=64,\n",
    "                                num_layers=1,\n",
    "                                noise_dim=(8,),\n",
    "                                noise_type='gaussian',\n",
    "                                noise_mix_type='global',\n",
    "                                pooling_type='pool_net',\n",
    "                                pool_every_timestep=1,\n",
    "                                dropout=0,\n",
    "                                bottleneck_dim=32,\n",
    "                                neighborhood_size=2,\n",
    "                                grid_size=8,\n",
    "                                batch_norm=0)\n",
    "\n",
    "toygenerator = ToyGenerator(in_len=in_len, out_len=out_len)\n",
    "toydiscriminator = ToyDiscriminator()\n",
    "\n",
    "bicyclegenerator = BicycleGenerator(ToyGenerator, start_mode='cvae')"
   ]
  },
  {
   "cell_type": "code",
   "execution_count": null,
   "metadata": {},
   "outputs": [],
   "source": [
    "models = {'Baseline':{'generator': toygenerator, 'ckpt': 'toymodel_1_20190117-172104_epoch_10000'},\n",
    "          'cLR':{'generator': bicyclegenerator, 'ckpt': 'clr_1_20190114-160949_epoch_10000'},\n",
    "          'cVAE':{'generator': bicyclegenerator, 'ckpt': 'cvae_1_20190114-154818_epoch_10000'},\n",
    "          'Bicycle':{'generator': bicyclegenerator, 'ckpt': 'bicy_weights_1_20190117-155010_epoch_10000'},\n",
    "          'SGAN':{'generator': sgangenerator, 'ckpt': 'sgan_1_20190117-055507_epoch_10000'},\n",
    "          'cLRSGAN':{'generator': None, 'ckpt': ''},\n",
    "          'cVAESGAN':{'generator': None, 'ckpt': ''},\n",
    "          'BicycleSGAN':{'generator': None, 'ckpt': ''}}"
   ]
  },
  {
   "cell_type": "code",
   "execution_count": null,
   "metadata": {},
   "outputs": [],
   "source": [
    "def get_model_solver(key, models, solver=BaseSolver):\n",
    "    solver = solver(ToyGenerator(in_len=in_len, out_len=out_len), ToyDiscriminator()) # dummies\n",
    "    solver.generator = models[key]['generator']\n",
    "    solver.load_generator(model_path + models[key]['ckpt'])\n",
    "    return solver"
   ]
  },
  {
   "cell_type": "code",
   "execution_count": null,
   "metadata": {},
   "outputs": [],
   "source": [
    "experiment = experiments.ETH() # we store filepaths and arguments in here\n",
    "dataset, testloader = data_loader(in_len=8,\n",
    "                                   out_len=12,\n",
    "                                   batch_size=64,\n",
    "                                   num_workers=1,\n",
    "                                   path=experiment.test_dir,\n",
    "                                   shuffle=False)"
   ]
  }
 ],
 "metadata": {
  "kernelspec": {
   "display_name": "Python 3",
   "language": "python",
   "name": "python3"
  },
  "language_info": {
   "codemirror_mode": {
    "name": "ipython",
    "version": 3
   },
   "file_extension": ".py",
   "mimetype": "text/x-python",
   "name": "python",
   "nbconvert_exporter": "python",
   "pygments_lexer": "ipython3",
   "version": "3.7.1"
  }
 },
 "nbformat": 4,
 "nbformat_minor": 2
}
