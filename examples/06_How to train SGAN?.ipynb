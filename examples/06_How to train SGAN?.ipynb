{
 "cells": [
  {
   "cell_type": "markdown",
   "metadata": {},
   "source": [
    "#### First, make sure that sgan is installed in your python environment.\n",
    "I assume you have installed mapsgan in the same way (which is necessary too), so this might be familiar to you.\n",
    "- Therefore, open a console, make a folder \"sgan\" in your project.\n",
    "- Execute 'git clone https://github.com/jkoal/mapsgan.git'. I created a branch \"sgan\" in mapsgan with my annotated sgan code. A new repository for that would be a bit more elegant, but I am too lazy rn to do that. And a fork cant be private and I dont wanna go public with it. Make 'git checkout sgan' and make sure to stay on this branch in this directory.\n",
    "- Activate your environment.\n",
    "- Find out the env path by 'which python'. It is something like \"~/anaconda3/envs/mapsgan/bin/python\"\n",
    "- Install package by creating a sgan.pth in site-packages which contains a single line to the sgan folder (the one with the \"\\__init\\__.py\" file). Easiest way to do so is when you are in the sgan directory, then type 'echo $PWD > /home/yy/anaconda3/envs/mapsgan/lib/python3.7/site-packages/sgan.pth' (path may vary). (Todo: add a setup file for the package.)\n"
   ]
  },
  {
   "cell_type": "code",
   "execution_count": 1,
   "metadata": {},
   "outputs": [
    {
     "name": "stdout",
     "output_type": "stream",
     "text": [
      "env: CUDA_VISIBLE_DEVICES=0\n"
     ]
    },
    {
     "data": {
      "text/plain": [
       "False"
      ]
     },
     "execution_count": 1,
     "metadata": {},
     "output_type": "execute_result"
    }
   ],
   "source": [
    "%load_ext autoreload\n",
    "%autoreload 2\n",
    "%env CUDA_VISIBLE_DEVICES=0\n",
    "import numpy as np\n",
    "import torch\n",
    "from torch import nn\n",
    "from mapsgan import SGANSolver, data_loader\n",
    "from sgan import TrajectoryGenerator, TrajectoryDiscriminator\n",
    "import mapsgan.experiments as experiments\n",
    "from mapsgan.evaluation import Visualization\n",
    "torch.cuda.is_available()"
   ]
  },
  {
   "cell_type": "code",
   "execution_count": 3,
   "metadata": {},
   "outputs": [],
   "source": [
    "experiment = experiments.ETH() # we store filepaths and arguments in here\n",
    "experiment.init_default_args() # those are some default SGAN parameters used in SGANSolver\n",
    "dataset, trainloader = data_loader(in_len=8, out_len=12, batch_size=8, num_workers=1, path=experiment.test_dir)"
   ]
  },
  {
   "cell_type": "code",
   "execution_count": 4,
   "metadata": {},
   "outputs": [],
   "source": [
    "generator = TrajectoryGenerator(obs_len=8,\n",
    "                                pred_len=12,\n",
    "                                embedding_dim=16,\n",
    "                                encoder_h_dim=32,\n",
    "                                decoder_h_dim=32,\n",
    "                                mlp_dim=64,\n",
    "                                num_layers=1,\n",
    "                                noise_dim=(8,),\n",
    "                                noise_type='gaussian',\n",
    "                                noise_mix_type='global',\n",
    "                                pooling_type='pool_net',\n",
    "                                pool_every_timestep=1,\n",
    "                                dropout=0,\n",
    "                                bottleneck_dim=32,\n",
    "                                neighborhood_size=2,\n",
    "                                grid_size=8,\n",
    "                                batch_norm=0)\n",
    "\n",
    "discriminator = TrajectoryDiscriminator(obs_len=8,\n",
    "                                        pred_len=12,\n",
    "                                        embedding_dim=16,\n",
    "                                        h_dim=64,\n",
    "                                        mlp_dim=64,\n",
    "                                        num_layers=1,\n",
    "                                        dropout=0,\n",
    "                                        batch_norm=0,\n",
    "                                        d_type='local')\n",
    "\n",
    "models = dict(generator = generator, discriminator = discriminator) # lmk if too cumbersome to pass both in a dict"
   ]
  },
  {
   "cell_type": "code",
   "execution_count": 7,
   "metadata": {},
   "outputs": [],
   "source": [
    "solver = SGANSolver(generator, discriminator, experiment=experiment, # pls read the code and docstrings to get the idea\n",
    "                optims_args={'generator': {'lr': 1e-2}, 'discriminator': {'lr': 1e-2}})"
   ]
  },
  {
   "cell_type": "code",
   "execution_count": 9,
   "metadata": {},
   "outputs": [
    {
     "name": "stdout",
     "output_type": "stream",
     "text": [
      "\n",
      "       Generator Losses    Discriminator Losses\n",
      "Epochs G_BCE     G_L1      D_Real    D_Fake    \n",
      "10     0.438     2.471     0.571     0.693     \n",
      "9      0.662     2.011     0.561     1.381     \n",
      "8      0.684     1.258     0.654     0.786     \n",
      "7      0.693     0.509     0.693     0.693     \n",
      "6      0.693     0.639     0.693     0.693     \n",
      "5      0.693     0.782     0.693     0.693     \n",
      "4      0.693     0.466     0.693     0.693     \n",
      "3      0.693     1.337     0.693     0.693     \n",
      "2      0.693     1.385     0.693     0.693     \n",
      "1      0.693     0.847     0.693     0.693     \n"
     ]
    }
   ],
   "source": [
    "solver.train(trainloader, epochs = 10, checkpoint_every=1, print_every=1, steps = {'generator': 1, 'discriminator': 1})"
   ]
  },
  {
   "cell_type": "markdown",
   "metadata": {},
   "source": [
    "#### Visualize things.\n",
    "As we talked about, I implemented a simple plotting class that is supposed to integrate with the rest. E.g. vis.loss takes the dictionary 'solver.train_loss_history' of the solver object to plot all losses.\n",
    "- For everything that you would like to visualize, think about how we could implement it in the class Visualization."
   ]
  },
  {
   "cell_type": "code",
   "execution_count": null,
   "metadata": {},
   "outputs": [],
   "source": [
    "vis = Visualization()\n",
    "vis.loss(solver.train_loss_history)"
   ]
  },
  {
   "cell_type": "code",
   "execution_count": null,
   "metadata": {},
   "outputs": [],
   "source": [
    "output = solver.test(trainloader)"
   ]
  },
  {
   "cell_type": "code",
   "execution_count": null,
   "metadata": {},
   "outputs": [],
   "source": [
    "ll = vis.trajectories(output, scenes=[10])"
   ]
  }
 ],
 "metadata": {
  "kernelspec": {
   "display_name": "Python (mapsgan)",
   "language": "python",
   "name": "mapsgan"
  },
  "language_info": {
   "codemirror_mode": {
    "name": "ipython",
    "version": 3
   },
   "file_extension": ".py",
   "mimetype": "text/x-python",
   "name": "python",
   "nbconvert_exporter": "python",
   "pygments_lexer": "ipython3",
   "version": "3.7.1"
  }
 },
 "nbformat": 4,
 "nbformat_minor": 2
}
