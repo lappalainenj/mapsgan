{
 "cells": [
  {
   "cell_type": "markdown",
   "metadata": {},
   "source": [
    "### Collision rate"
   ]
  },
  {
   "cell_type": "code",
   "execution_count": 8,
   "metadata": {},
   "outputs": [
    {
     "name": "stdout",
     "output_type": "stream",
     "text": [
      "The autoreload extension is already loaded. To reload it, use:\n",
      "  %reload_ext autoreload\n"
     ]
    },
    {
     "data": {
      "text/plain": [
       "['bicy_enc_1_20190117-134649_epoch_10000',\n",
       " 'bicy_weights_1_20190117-155010_epoch_10000',\n",
       " 'bicy_weights_2_20190118-073226_epoch_70000',\n",
       " 'bicy_weights__encoptim_3_20190118-124310_epoch_10000',\n",
       " 'clr_1_20190114-160949_epoch_10000',\n",
       " 'cvae_1_20190114-154818_epoch_10000',\n",
       " 'sgan_1_20190117-055507_epoch_10000',\n",
       " 'toymodel_1_20190117-172104_epoch_10000']"
      ]
     },
     "execution_count": 8,
     "metadata": {},
     "output_type": "execute_result"
    }
   ],
   "source": [
    "%load_ext autoreload\n",
    "%autoreload 2\n",
    "import numpy as np\n",
    "import torch\n",
    "from torch import nn\n",
    "from mapsgan import BaseSolver, experiments, data_loader\n",
    "from mapsgan import ToyGenerator, ToyDiscriminator, BicycleGenerator, norm_scene, cos_scene\n",
    "from mapsgan.evaluation import Visualization\n",
    "from sgan import TrajectoryDiscriminator, TrajectoryGenerator\n",
    "import matplotlib.pyplot as plt\n",
    "from scipy.spatial.distance import squareform, pdist\n",
    "import os\n",
    "model_path = '../models/cloud/'\n",
    "os.listdir(model_path)"
   ]
  },
  {
   "cell_type": "code",
   "execution_count": 9,
   "metadata": {},
   "outputs": [],
   "source": [
    "in_len, out_len = 8, 12\n",
    "sgangenerator = TrajectoryGenerator(obs_len=8,\n",
    "                                pred_len=12,\n",
    "                                embedding_dim=16,\n",
    "                                encoder_h_dim=32,\n",
    "                                decoder_h_dim=32,\n",
    "                                mlp_dim=64,\n",
    "                                num_layers=1,\n",
    "                                noise_dim=(8,),\n",
    "                                noise_type='gaussian',\n",
    "                                noise_mix_type='global',\n",
    "                                pooling_type='pool_net',\n",
    "                                pool_every_timestep=1,\n",
    "                                dropout=0,\n",
    "                                bottleneck_dim=32,\n",
    "                                neighborhood_size=2,\n",
    "                                grid_size=8,\n",
    "                                batch_norm=0)\n",
    "\n",
    "toygenerator = ToyGenerator(in_len=in_len, out_len=out_len)\n",
    "toydiscriminator = ToyDiscriminator()\n",
    "\n",
    "bicyclegenerator = BicycleGenerator(ToyGenerator, start_mode='cvae')"
   ]
  },
  {
   "cell_type": "code",
   "execution_count": 10,
   "metadata": {},
   "outputs": [],
   "source": [
    "models = {'Baseline':{'generator': toygenerator, 'ckpt': 'toymodel_1_20190117-172104_epoch_10000'},\n",
    "          'cLR':{'generator': bicyclegenerator, 'ckpt': 'clr_1_20190114-160949_epoch_10000'},\n",
    "          'cVAE':{'generator': bicyclegenerator, 'ckpt': 'cvae_1_20190114-154818_epoch_10000'},\n",
    "          'Bicycle':{'generator': bicyclegenerator, 'ckpt': 'bicy_weights_1_20190117-155010_epoch_10000'},\n",
    "          'SGAN':{'generator': sgangenerator, 'ckpt': 'sgan_1_20190117-055507_epoch_10000'},\n",
    "          'cLRSGAN':{'generator': None, 'ckpt': ''},\n",
    "          'cVAESGAN':{'generator': None, 'ckpt': ''},\n",
    "          'BicycleSGAN':{'generator': None, 'ckpt': ''}}"
   ]
  },
  {
   "cell_type": "code",
   "execution_count": 11,
   "metadata": {},
   "outputs": [],
   "source": [
    "def get_model_solver(key, models, solver=BaseSolver):\n",
    "    solver = solver(ToyGenerator(in_len=in_len, out_len=out_len), ToyDiscriminator()) # dummies\n",
    "    solver.generator = models[key]['generator']\n",
    "    solver.load_generator(model_path + models[key]['ckpt'])\n",
    "    return solver"
   ]
  },
  {
   "cell_type": "code",
   "execution_count": 99,
   "metadata": {},
   "outputs": [],
   "source": [
    "solver = get_model_solver('cLR', models)"
   ]
  },
  {
   "cell_type": "code",
   "execution_count": 63,
   "metadata": {},
   "outputs": [],
   "source": [
    "experiment = experiments.ETH() # we store filepaths and arguments in here\n",
    "dataset, testloader = data_loader(in_len=8,\n",
    "                                   out_len=12,\n",
    "                                   batch_size=64,\n",
    "                                   num_workers=1,\n",
    "                                   path=experiment.test_dir,\n",
    "                                   shuffle=False)"
   ]
  },
  {
   "cell_type": "code",
   "execution_count": 100,
   "metadata": {},
   "outputs": [],
   "source": [
    "output = solver.test(testloader)"
   ]
  },
  {
   "cell_type": "code",
   "execution_count": 79,
   "metadata": {},
   "outputs": [
    {
     "data": {
      "image/png": "[encoded data removed]",
      "text/plain": [
       "<Figure size 1080x360 with 2 Axes>"
      ]
     },
     "metadata": {},
     "output_type": "display_data"
    }
   ],
   "source": [
    "vis = Visualization()\n",
    "vis.trajectories(output, [0, 1], ground_truth=True, )"
   ]
  },
  {
   "cell_type": "code",
   "execution_count": 81,
   "metadata": {},
   "outputs": [
    {
     "data": {
      "text/plain": [
       "array([[[ 4.605405  ,  7.177414  ],\n",
       "        [ 6.160743  ,  6.8594174 ]],\n",
       "\n",
       "       [[ 3.9975758 ,  7.349273  ],\n",
       "        [ 5.430111  ,  6.8937807 ]],\n",
       "\n",
       "       [[ 3.3885226 ,  7.504848  ],\n",
       "        [ 4.707678  ,  6.9192944 ]],\n",
       "\n",
       "       [[ 2.784983  ,  7.6443157 ],\n",
       "        [ 4.00394   ,  6.935646  ]],\n",
       "\n",
       "       [[ 2.1870327 ,  7.7684207 ],\n",
       "        [ 3.315872  ,  6.9435062 ]],\n",
       "\n",
       "       [[ 1.5938473 ,  7.8789783 ],\n",
       "        [ 2.6410756 ,  6.945406  ]],\n",
       "\n",
       "       [[ 1.0053434 ,  7.978046  ],\n",
       "        [ 1.9791417 ,  6.943056  ]],\n",
       "\n",
       "       [[ 0.42179203,  8.067234  ],\n",
       "        [ 1.3299999 ,  6.9376435 ]],\n",
       "\n",
       "       [[-0.15691614,  8.147605  ],\n",
       "        [ 0.69301844,  6.9299345 ]],\n",
       "\n",
       "       [[-0.7299199 ,  8.21937   ],\n",
       "        [ 0.06694698,  6.9216404 ]],\n",
       "\n",
       "       [[-1.2965789 ,  8.282887  ],\n",
       "        [-0.5483613 ,  6.913644  ]],\n",
       "\n",
       "       [[-1.8563094 ,  8.338187  ],\n",
       "        [-1.1530848 ,  6.9061584 ]]], dtype=float32)"
      ]
     },
     "execution_count": 81,
     "metadata": {},
     "output_type": "execute_result"
    }
   ],
   "source": [
    "output['xy_pred'][0]"
   ]
  },
  {
   "cell_type": "markdown",
   "metadata": {},
   "source": [
    "### Collision rate"
   ]
  },
  {
   "cell_type": "code",
   "execution_count": 42,
   "metadata": {},
   "outputs": [],
   "source": [
    "def get_collisions(xy, thresh=0.5):\n",
    "    \"\"\"Computes collision on array of (seq_len, num_agents, num_chords)\"\"\"\n",
    "    from scipy.spatial.distance import pdist, squareform\n",
    "    collisions = 0\n",
    "    for i, step in enumerate(xy):\n",
    "        dm = squareform(pdist(step))  # step is (num_agents, dimensions xy) \n",
    "        ind = np.triu_indices(dm.shape[0], k=1)\n",
    "        for distance in dm[ind]:\n",
    "            if distance < thresh:\n",
    "                collisions += 1\n",
    "    return collisions\n",
    "\n",
    "def get_all_collisions(xy_pred, thresh=0.5):\n",
    "    \"\"\"Computes collisions for all scenes.\"\"\"\n",
    "    collisions = 0\n",
    "    for scene in xy_pred:\n",
    "        collisions += get_collisions(scene, thresh)\n",
    "    return collisions"
   ]
  },
  {
   "cell_type": "code",
   "execution_count": 45,
   "metadata": {},
   "outputs": [
    {
     "data": {
      "text/plain": [
       "48"
      ]
     },
     "execution_count": 45,
     "metadata": {},
     "output_type": "execute_result"
    }
   ],
   "source": [
    "get_all_collisions(output['xy_pred'], thresh=0.5)"
   ]
  },
  {
   "cell_type": "markdown",
   "metadata": {},
   "source": [
    "### Final displacement error"
   ]
  },
  {
   "cell_type": "code",
   "execution_count": 101,
   "metadata": {},
   "outputs": [],
   "source": [
    "pred = output['xy_pred']\n",
    "gt = output['xy_out']"
   ]
  },
  {
   "cell_type": "code",
   "execution_count": 102,
   "metadata": {},
   "outputs": [],
   "source": [
    "def average_fde(output):\n",
    "    pred = output['xy_pred']\n",
    "    gt = output['xy_out']\n",
    "    diff = 0\n",
    "    for i, scene in enumerate(pred):\n",
    "        last_p = scene[-1]\n",
    "        last_gt = gt[i][-1]\n",
    "        diff += np.linalg.norm((last_p-last_gt), axis=1).mean()\n",
    "    diff /= len(pred)\n",
    "    return diff\n",
    "    "
   ]
  },
  {
   "cell_type": "code",
   "execution_count": 103,
   "metadata": {},
   "outputs": [
    {
     "data": {
      "text/plain": [
       "35.91936370304653"
      ]
     },
     "execution_count": 103,
     "metadata": {},
     "output_type": "execute_result"
    }
   ],
   "source": [
    "average_fde(output)"
   ]
  },
  {
   "cell_type": "code",
   "execution_count": null,
   "metadata": {},
   "outputs": [],
   "source": []
  }
 ],
 "metadata": {
  "kernelspec": {
   "display_name": "Python 3",
   "language": "python",
   "name": "python3"
  },
  "language_info": {
   "codemirror_mode": {
    "name": "ipython",
    "version": 3
   },
   "file_extension": ".py",
   "mimetype": "text/x-python",
   "name": "python",
   "nbconvert_exporter": "python",
   "pygments_lexer": "ipython3",
   "version": "3.7.1"
  }
 },
 "nbformat": 4,
 "nbformat_minor": 2
}
