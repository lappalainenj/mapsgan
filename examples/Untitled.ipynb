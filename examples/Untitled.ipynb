{
 "cells": [
  {
   "cell_type": "markdown",
   "metadata": {},
   "source": [
    "### Create trajectory plots for all saved models for presentation"
   ]
  },
  {
   "cell_type": "code",
   "execution_count": 5,
   "metadata": {},
   "outputs": [
    {
     "name": "stdout",
     "output_type": "stream",
     "text": [
      "env: CUDA_VISIBLE_DEVICES=''\n"
     ]
    }
   ],
   "source": [
    "%env CUDA_VISIBLE_DEVICES = ''\n",
    "import torch\n",
    "import numpy\n",
    "from mapsgan.evaluation import Visualization\n",
    "from mapsgan.solver import BaseSolver, Solver\n",
    "from mapsgan.toymodules import ToyGenerator, ToyDiscriminator, BicycleGenerator"
   ]
  },
  {
   "cell_type": "code",
   "execution_count": null,
   "metadata": {},
   "outputs": [],
   "source": [
    "model_name_list = ['toymodel', 'clr', 'cvae', 'bicy', 'sgan']\n",
    "\n"
   ]
  },
  {
   "cell_type": "code",
   "execution_count": 20,
   "metadata": {},
   "outputs": [],
   "source": [
    "experiment = experiments.ETH() # we store filepaths and arguments in here\n",
    "dataset, trainloader = data_loader(in_len=8, out_len=12, batch_size=64, num_workers=1, path=experiment.train_dir,\n",
    "                                  shuffle=True)\n",
    "_ , testloader = data_loader(in_len=8, out_len=12, batch_size=64, num_workers=1, path=experiment.test_dir,\n",
    "                                  shuffle=True)"
   ]
  },
  {
   "cell_type": "code",
   "execution_count": 4,
   "metadata": {},
   "outputs": [],
   "source": [
    "generator = ToyGenerator(in_len=8, out_len=8)\n",
    "discriminator = ToyDiscriminator()\n",
    "solver = BaseSolver(generator, discriminator)"
   ]
  },
  {
   "cell_type": "code",
   "execution_count": null,
   "metadata": {},
   "outputs": [],
   "source": [
    "for model_name in model_name_list:\n",
    "    if model_name == 'toymodel':\n",
    "        solver.generator = ToyGenerator(in_len=8, out_len=8)\n",
    "        solver.discriminator = ToyDiscriminator()\n",
    "    elif model_name == 'clr':\n",
    "        solver.generator = BicycleGenerator(generator=Toygenerator, start_mode='clr')\n",
    "    elif model_name == 'cvae':\n",
    "        solver.generator = BicycleGenerator(generator=Toygenerator, start_mode='cvae')\n",
    "    elif model_name == 'bicy':\n",
    "        \n",
    "    elif model_name == 'sgan':\n",
    "    else:\n",
    "        print('Model name not defined.')\n",
    "    "
   ]
  }
 ],
 "metadata": {
  "kernelspec": {
   "display_name": "mapsgan",
   "language": "python",
   "name": "mapsgan"
  },
  "language_info": {
   "codemirror_mode": {
    "name": "ipython",
    "version": 3
   },
   "file_extension": ".py",
   "mimetype": "text/x-python",
   "name": "python",
   "nbconvert_exporter": "python",
   "pygments_lexer": "ipython3",
   "version": "3.6.0"
  }
 },
 "nbformat": 4,
 "nbformat_minor": 2
}
