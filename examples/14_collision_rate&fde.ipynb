{
 "cells": [
  {
   "cell_type": "markdown",
   "metadata": {},
   "source": [
    "### Collision rate"
   ]
  },
  {
   "cell_type": "code",
   "execution_count": 2,
   "metadata": {},
   "outputs": [
    {
     "name": "stdout",
     "output_type": "stream",
     "text": [
      "The autoreload extension is already loaded. To reload it, use:\n",
      "  %reload_ext autoreload\n"
     ]
    },
    {
     "data": {
      "text/plain": [
       "['bicy_enc_1_20190117-134649_epoch_10000',\n",
       " 'bicy_weights_1_20190117-155010_epoch_10000',\n",
       " 'bicy_weights_2_20190118-073226_epoch_70000',\n",
       " 'bicy_weights__encoptim_3_20190118-124310_epoch_10000',\n",
       " 'clr_1_20190114-160949_epoch_10000',\n",
       " 'cvae_1_20190114-154818_epoch_10000',\n",
       " 'eth_12_model.pt',\n",
       " 'sgan_1_20190117-055507_epoch_10000',\n",
       " 'toymodel_1_20190117-172104_epoch_10000']"
      ]
     },
     "execution_count": 2,
     "metadata": {},
     "output_type": "execute_result"
    }
   ],
   "source": [
    "%load_ext autoreload\n",
    "%autoreload 2\n",
    "import numpy as np\n",
    "import torch\n",
    "from torch import nn\n",
    "from mapsgan import BaseSolver, experiments, data_loader\n",
    "from mapsgan import ToyGenerator, ToyDiscriminator, BicycleGenerator, norm_scene, cos_scene\n",
    "from mapsgan.evaluation import Visualization\n",
    "from mapsgan.sgan import TrajectoryDiscriminator, TrajectoryGenerator\n",
    "import matplotlib.pyplot as plt\n",
    "from scipy.spatial.distance import squareform, pdist\n",
    "import os\n",
    "\n",
    "model_path = '../models/cloud/'\n",
    "os.listdir(model_path)"
   ]
  },
  {
   "cell_type": "code",
   "execution_count": 2,
   "metadata": {},
   "outputs": [],
   "source": [
    "in_len, out_len = 8, 12\n",
    "sgangenerator = TrajectoryGenerator(obs_len=8,\n",
    "                                pred_len=12,\n",
    "                                embedding_dim=16,\n",
    "                                encoder_h_dim=32,\n",
    "                                decoder_h_dim=32,\n",
    "                                mlp_dim=64,\n",
    "                                num_layers=1,\n",
    "                                noise_dim=(8,),\n",
    "                                noise_type='gaussian',\n",
    "                                noise_mix_type='global',\n",
    "                                pooling_type='pool_net',\n",
    "                                pool_every_timestep=1,\n",
    "                                dropout=0,\n",
    "                                bottleneck_dim=32,\n",
    "                                neighborhood_size=2,\n",
    "                                grid_size=8,\n",
    "                                batch_norm=0)\n",
    "\n",
    "toygenerator = ToyGenerator(in_len=in_len, out_len=out_len)\n",
    "toydiscriminator = ToyDiscriminator()\n",
    "\n",
    "bicyclegenerator = BicycleGenerator(ToyGenerator, start_mode='cvae')"
   ]
  },
  {
   "cell_type": "code",
   "execution_count": 3,
   "metadata": {},
   "outputs": [],
   "source": [
    "models = {'Baseline':{'generator': toygenerator, 'ckpt': 'toymodel_1_20190117-172104_epoch_10000'},\n",
    "          'cLR':{'generator': bicyclegenerator, 'ckpt': 'clr_1_20190114-160949_epoch_10000'},\n",
    "          'cVAE':{'generator': bicyclegenerator, 'ckpt': 'cvae_1_20190114-154818_epoch_10000'},\n",
    "          'Bicycle':{'generator': bicyclegenerator, 'ckpt': 'bicy_weights_1_20190117-155010_epoch_10000'},\n",
    "          'SGAN':{'generator': sgangenerator, 'ckpt':'sgan_1_20190117-055507_epoch_10000'},\n",
    "          'cLRSGAN':{'generator': None, 'ckpt': ''},\n",
    "          'cVAESGAN':{'generator': None, 'ckpt': ''},\n",
    "          'BicycleSGAN':{'generator': None, 'ckpt': ''}}"
   ]
  },
  {
   "cell_type": "code",
   "execution_count": 7,
   "metadata": {},
   "outputs": [],
   "source": [
    "def get_model_solver(key, models, solver=BaseSolver):\n",
    "    solver = solver(ToyGenerator(in_len=in_len, out_len=out_len), ToyDiscriminator()) # dummies\n",
    "    solver.generator = models[key]['generator']\n",
    "    solver.load_generator(model_path + models[key]['ckpt'])\n",
    "    return solver"
   ]
  },
  {
   "cell_type": "code",
   "execution_count": 8,
   "metadata": {},
   "outputs": [],
   "source": [
    "solver = get_model_solver('SGAN', models)"
   ]
  },
  {
   "cell_type": "code",
   "execution_count": 4,
   "metadata": {
    "scrolled": false
   },
   "outputs": [],
   "source": [
    "from attrdict import AttrDict\n",
    "checkpoint = torch.load(model_path + 'eth_12_model.pt', map_location='cpu')\n",
    "args = AttrDict(checkpoint['args'])\n",
    "generator = TrajectoryGenerator(\n",
    "    obs_len=args.obs_len,\n",
    "    pred_len=args.pred_len,\n",
    "    embedding_dim=args.embedding_dim,\n",
    "    encoder_h_dim=args.encoder_h_dim_g,\n",
    "    decoder_h_dim=args.decoder_h_dim_g,\n",
    "    mlp_dim=args.mlp_dim,\n",
    "    num_layers=args.num_layers,\n",
    "    noise_dim=args.noise_dim,\n",
    "    noise_type=args.noise_type,\n",
    "    noise_mix_type=args.noise_mix_type,\n",
    "    pooling_type=args.pooling_type,\n",
    "    pool_every_timestep=args.pool_every_timestep,\n",
    "    dropout=args.dropout,\n",
    "    bottleneck_dim=args.bottleneck_dim,\n",
    "    neighborhood_size=args.neighborhood_size,\n",
    "    grid_size=args.grid_size,\n",
    "    batch_norm=args.batch_norm)\n",
    "generator.load_state_dict(checkpoint['g_state'])\n",
    "solver = BaseSolver(ToyGenerator(in_len=in_len, out_len=out_len), ToyDiscriminator())\n",
    "solver.generator = generator"
   ]
  },
  {
   "cell_type": "code",
   "execution_count": 5,
   "metadata": {},
   "outputs": [],
   "source": [
    "experiment = experiments.ETH() # we store filepaths and arguments in here\n",
    "dataset, testloader = data_loader(in_len=8,\n",
    "                                   out_len=12,\n",
    "                                   batch_size=64,\n",
    "                                   num_workers=1,\n",
    "                                   path=experiment.test_dir,\n",
    "                                   shuffle=False)"
   ]
  },
  {
   "cell_type": "code",
   "execution_count": 6,
   "metadata": {},
   "outputs": [],
   "source": [
    "output = solver.test(testloader)"
   ]
  },
  {
   "cell_type": "code",
   "execution_count": 7,
   "metadata": {},
   "outputs": [
    {
     "data": {
      "image/png": "[encoded data removed]",
      "text/plain": [
       "<Figure size 1080x360 with 2 Axes>"
      ]
     },
     "metadata": {
      "needs_background": "light"
     },
     "output_type": "display_data"
    }
   ],
   "source": [
    "vis = Visualization()\n",
    "vis.trajectories(output, [0, 1], ground_truth=True, )"
   ]
  },
  {
   "cell_type": "markdown",
   "metadata": {},
   "source": [
    "### Collision rate"
   ]
  },
  {
   "cell_type": "code",
   "execution_count": 42,
   "metadata": {},
   "outputs": [],
   "source": [
    "def get_collisions(output, thresh=0.5):\n",
    "    \"\"\"Computes collision on array of (seq_len, num_agents, num_chords)\"\"\"\n",
    "    from scipy.spatial.distance import pdist, squareform\n",
    "    collisions = 0\n",
    "    xy_pred = output['xy_pred']\n",
    "    for scene in xy_pred:\n",
    "        for i, step in enumerate(xy):\n",
    "            dm = squareform(pdist(step))  # step is (num_agents, dimensions xy) \n",
    "            ind = np.triu_indices(dm.shape[0], k=1)\n",
    "            for distance in dm[ind]:\n",
    "                if distance < thresh:\n",
    "                    collisions += 1\n",
    "    return collisions"
   ]
  },
  {
   "cell_type": "code",
   "execution_count": 45,
   "metadata": {},
   "outputs": [
    {
     "data": {
      "text/plain": [
       "48"
      ]
     },
     "execution_count": 45,
     "metadata": {},
     "output_type": "execute_result"
    }
   ],
   "source": [
    "get_collisions(output, thresh=0.5)"
   ]
  },
  {
   "cell_type": "markdown",
   "metadata": {},
   "source": [
    "### Final displacement error"
   ]
  },
  {
   "cell_type": "code",
   "execution_count": 101,
   "metadata": {},
   "outputs": [],
   "source": [
    "pred = output['xy_pred']\n",
    "gt = output['xy_out']"
   ]
  },
  {
   "cell_type": "code",
   "execution_count": 102,
   "metadata": {},
   "outputs": [],
   "source": [
    "def get_collisions(output, thresh=0.5):\n",
    "    \"\"\"Computes collision on array of (seq_len, num_agents, num_chords)\"\"\"\n",
    "    from scipy.spatial.distance import pdist, squareform\n",
    "    collisions = 0\n",
    "    xy_pred = output['xy_pred']\n",
    "    for scene in xy_pred:\n",
    "        for i, step in enumerate(xy):\n",
    "            dm = squareform(pdist(step))  # step is (num_agents, dimensions xy) \n",
    "            ind = np.triu_indices(dm.shape[0], k=1)\n",
    "            for distance in dm[ind]:\n",
    "                if distance < thresh:\n",
    "                    collisions += 1\n",
    "    return collisions\n",
    "\n",
    "def get_average_fde(output):\n",
    "    pred = output['xy_pred']\n",
    "    gt = output['xy_out']\n",
    "    diff = 0\n",
    "    for i, scene in enumerate(pred):\n",
    "        last_p = scene[-1]\n",
    "        last_gt = gt[i][-1]\n",
    "        diff += np.linalg.norm((last_p-last_gt), axis=1).mean()\n",
    "    diff /= len(pred)\n",
    "    return diff\n",
    "    "
   ]
  },
  {
   "cell_type": "code",
   "execution_count": 103,
   "metadata": {},
   "outputs": [
    {
     "data": {
      "text/plain": [
       "35.91936370304653"
      ]
     },
     "execution_count": 103,
     "metadata": {},
     "output_type": "execute_result"
    }
   ],
   "source": [
    "average_fde(output)"
   ]
  },
  {
   "cell_type": "code",
   "execution_count": null,
   "metadata": {},
   "outputs": [],
   "source": []
  }
 ],
 "metadata": {
  "kernelspec": {
   "display_name": "Python 3",
   "language": "python",
   "name": "python3"
  },
  "language_info": {
   "codemirror_mode": {
    "name": "ipython",
    "version": 3
   },
   "file_extension": ".py",
   "mimetype": "text/x-python",
   "name": "python",
   "nbconvert_exporter": "python",
   "pygments_lexer": "ipython3",
   "version": "3.7.1"
  }
 },
 "nbformat": 4,
 "nbformat_minor": 2
}
