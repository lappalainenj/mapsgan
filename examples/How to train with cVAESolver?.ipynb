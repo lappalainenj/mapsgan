{
 "cells": [
  {
   "cell_type": "markdown",
   "metadata": {},
   "source": [
    "### Toymodel Train Test Evaluation"
   ]
  },
  {
   "cell_type": "code",
   "execution_count": 1,
   "metadata": {},
   "outputs": [
    {
     "name": "stdout",
     "output_type": "stream",
     "text": [
      "env: CUDA_VISIBLE_DEVICES=''\n"
     ]
    },
    {
     "data": {
      "text/plain": [
       "False"
      ]
     },
     "execution_count": 1,
     "metadata": {},
     "output_type": "execute_result"
    }
   ],
   "source": [
    "%load_ext autoreload\n",
    "%autoreload 2\n",
    "%env CUDA_VISIBLE_DEVICES=''\n",
    "import numpy as np\n",
    "import torch\n",
    "from torch import nn\n",
    "from mapsgan import cVAESolver, BicycleGenerator, ToyGenerator, ToyDiscriminator, data_loader\n",
    "import mapsgan.experiments as experiments\n",
    "from mapsgan.evaluation import Visualization\n",
    "from mapsgan.losses import kl_loss\n",
    "from torch import optim\n",
    "torch.cuda.is_available()"
   ]
  },
  {
   "cell_type": "markdown",
   "metadata": {},
   "source": [
    "#### Set up dataloader, model, solver"
   ]
  },
  {
   "cell_type": "code",
   "execution_count": 2,
   "metadata": {},
   "outputs": [],
   "source": [
    "experiment = experiments.ETH() # we store filepaths and arguments in here\n",
    "dataset, trainloader = data_loader(in_len=8, out_len=12, batch_size=64, num_workers=1, path=experiment.test_dir,\n",
    "                                  shuffle=True)\n",
    "_, testloader = data_loader(in_len=8, out_len=12, batch_size=1, num_workers=1, path=experiment.test_dir,\n",
    "                                  shuffle=False)"
   ]
  },
  {
   "cell_type": "code",
   "execution_count": 3,
   "metadata": {},
   "outputs": [],
   "source": [
    "generator = BicycleGenerator(generator=ToyGenerator, start_mode='cvae')\n",
    "discriminator = ToyDiscriminator()"
   ]
  },
  {
   "cell_type": "code",
   "execution_count": 4,
   "metadata": {},
   "outputs": [],
   "source": [
    "solver = cVAESolver(generator, discriminator, \n",
    "                loss_fns={'traj': nn.L1Loss, 'disc': nn.BCEWithLogitsLoss, 'kl':kl_loss},\n",
    "                optims_args={'generator': {'lr': 1e-3}, 'discriminator': {'lr': 1e-3}, 'encoder':{'lr':1e-3}})"
   ]
  },
  {
   "cell_type": "markdown",
   "metadata": {},
   "source": [
    "#### Training"
   ]
  },
  {
   "cell_type": "code",
   "execution_count": 5,
   "metadata": {},
   "outputs": [
    {
     "name": "stdout",
     "output_type": "stream",
     "text": [
      "Training new model\n",
      "\n",
      "       Generator Losses              Discriminator Losses\n",
      "Epochs G_BCE     G_L1      G_KL      D_Real    D_Fake    \n",
      "500    0.675     0.288     63.891    0.677     0.710     \n",
      "490    0.681     0.230     3.797     0.688     0.703     \n",
      "480    0.689     0.205     1.327     0.685     0.700     \n",
      "470    0.690     0.149     0.359     0.677     0.698     \n",
      "460    0.690     0.120     0.214     0.678     0.698     \n",
      "450    0.689     0.120     0.121     0.680     0.700     \n",
      "440    0.692     0.109     0.077     0.682     0.696     \n",
      "430    0.692     0.111     0.056     0.677     0.696     \n",
      "420    0.693     0.106     0.040     0.687     0.693     \n",
      "410    0.693     0.104     0.036     0.672     0.695     \n",
      "400    0.691     0.103     0.030     0.669     0.693     \n",
      "390    0.692     0.106     0.026     0.658     0.694     \n",
      "380    0.693     0.093     0.023     0.667     0.695     \n",
      "370    0.692     0.100     0.021     0.667     0.695     \n",
      "360    0.693     0.100     0.017     0.673     0.694     \n",
      "350    0.691     0.096     0.016     0.662     0.695     \n",
      "340    0.692     0.099     0.014     0.643     0.699     \n",
      "330    0.691     0.108     0.013     0.679     0.701     \n",
      "320    0.692     0.104     0.012     0.639     0.697     \n",
      "310    0.693     0.095     0.011     0.645     0.695     \n",
      "300    0.693     0.087     0.010     0.675     0.693     \n",
      "290    0.693     0.089     0.009     0.668     0.693     \n",
      "280    0.692     0.090     0.009     0.655     0.695     \n",
      "270    0.691     0.089     0.008     0.661     0.694     \n",
      "260    0.693     0.084     0.007     0.664     0.694     \n",
      "250    0.686     0.098     0.007     0.670     0.722     \n",
      "240    0.684     0.117     0.007     0.631     0.714     \n",
      "230    0.686     0.112     0.006     0.642     0.714     \n",
      "220    0.691     0.100     0.006     0.667     0.698     \n",
      "210    0.692     0.090     0.005     0.660     0.695     \n",
      "200    0.693     0.091     0.005     0.628     0.693     \n",
      "190    0.659     0.092     0.005     0.634     0.751     \n",
      "180    0.653     0.091     0.005     0.642     0.735     \n",
      "170    0.666     0.088     0.004     0.641     0.720     \n",
      "160    0.659     0.097     0.004     0.639     0.731     \n",
      "150    0.681     0.088     0.004     0.662     0.713     \n",
      "140    0.663     0.095     0.004     0.654     0.739     \n",
      "130    0.672     0.086     0.004     0.672     0.726     \n",
      "120    0.688     0.085     0.004     0.688     0.699     \n",
      "110    0.687     0.088     0.003     0.681     0.703     \n",
      "100    0.686     0.098     0.003     0.678     0.719     \n",
      "90     0.693     0.102     0.003     0.669     0.694     \n",
      "80     0.693     0.098     0.003     0.647     0.693     \n",
      "70     0.688     0.097     0.003     0.655     0.716     \n",
      "60     0.688     0.091     0.003     0.659     0.706     \n",
      "50     0.684     0.096     0.003     0.671     0.704     \n",
      "40     0.691     0.091     0.003     0.643     0.703     \n",
      "30     0.690     0.101     0.003     0.662     0.698     \n",
      "20     0.692     0.096     0.002     0.660     0.693     \n",
      "10     0.690     0.091     0.002     0.634     0.695     \n"
     ]
    }
   ],
   "source": [
    "solver.train(trainloader, epochs = 500, checkpoint_every=10, print_every=10, val_every=10, testloader=testloader, steps = {'generator': 1, 'discriminator': 1})"
   ]
  },
  {
   "cell_type": "code",
   "execution_count": 6,
   "metadata": {},
   "outputs": [
    {
     "name": "stdout",
     "output_type": "stream",
     "text": [
      "Training new model\n",
      "\n",
      "       Generator Losses              Discriminator Losses\n",
      "Epochs G_BCE     G_L1      G_KL      D_Real    D_Fake    \n",
      "500    0.580     0.248     46.955    0.621     0.895     \n",
      "490    0.561     0.244     2.598     0.621     0.877     \n",
      "480    0.636     0.166     0.834     0.542     0.821     \n",
      "470    0.641     0.160     0.384     0.518     0.797     \n",
      "460    0.666     0.135     0.185     0.558     0.794     \n",
      "450    0.616     0.128     0.109     0.643     0.773     \n",
      "440    0.647     0.134     0.073     0.585     0.789     \n",
      "430    0.543     0.128     0.054     0.583     0.843     \n",
      "420    0.614     0.160     0.037     0.561     0.876     \n",
      "410    0.653     0.160     0.034     0.615     0.807     \n",
      "400    0.634     0.120     0.027     0.615     0.820     \n",
      "390    0.629     0.113     0.024     0.616     0.782     \n",
      "380    0.657     0.115     0.021     0.619     0.750     \n",
      "370    0.646     0.115     0.017     0.660     0.741     \n",
      "360    0.667     0.116     0.015     0.650     0.727     \n",
      "350    0.623     0.106     0.015     0.569     0.763     \n",
      "340    0.680     0.113     0.013     0.665     0.737     \n",
      "330    0.665     0.108     0.012     0.623     0.734     \n",
      "320    0.656     0.112     0.011     0.653     0.721     \n",
      "310    0.668     0.109     0.010     0.660     0.722     \n",
      "300    0.676     0.108     0.009     0.646     0.723     \n",
      "290    0.664     0.103     0.009     0.634     0.728     \n",
      "280    0.669     0.109     0.008     0.652     0.721     \n",
      "270    0.684     0.107     0.008     0.646     0.710     \n",
      "260    0.672     0.116     0.007     0.596     0.719     \n",
      "250    0.684     0.119     0.007     0.642     0.703     \n",
      "240    0.662     0.119     0.006     0.603     0.719     \n",
      "230    0.651     0.108     0.006     0.656     0.750     \n",
      "220    0.663     0.112     0.006     0.601     0.723     \n",
      "210    0.670     0.100     0.005     0.640     0.729     \n",
      "200    0.671     0.097     0.005     0.600     0.715     \n",
      "190    0.638     0.114     0.005     0.626     0.757     \n",
      "180    0.685     0.101     0.004     0.605     0.718     \n",
      "170    0.673     0.099     0.004     0.610     0.718     \n",
      "160    0.687     0.102     0.004     0.661     0.703     \n",
      "150    0.652     0.123     0.004     0.666     0.773     \n",
      "140    0.652     0.112     0.004     0.620     0.751     \n",
      "130    0.670     0.105     0.004     0.646     0.743     \n",
      "120    0.639     0.104     0.003     0.650     0.736     \n",
      "110    0.641     0.100     0.003     0.647     0.746     \n",
      "100    0.637     0.100     0.003     0.630     0.740     \n",
      "90     0.682     0.102     0.003     0.612     0.706     \n",
      "80     0.688     0.100     0.003     0.596     0.708     \n",
      "70     0.646     0.094     0.003     0.602     0.724     \n",
      "60     0.679     0.109     0.003     0.600     0.732     \n",
      "50     0.673     0.101     0.003     0.661     0.732     \n",
      "40     0.672     0.095     0.002     0.644     0.718     \n",
      "30     0.672     0.098     0.002     0.618     0.731     \n",
      "20     0.689     0.094     0.002     0.596     0.705     \n",
      "10     0.665     0.098     0.002     0.597     0.723     \n"
     ]
    }
   ],
   "source": [
    "solver.train(trainloader, epochs = 500, checkpoint_every=10, print_every=10, val_every=10, testloader=testloader, steps = {'generator': 1, 'discriminator': 1})"
   ]
  },
  {
   "cell_type": "markdown",
   "metadata": {},
   "source": [
    "#### Test"
   ]
  },
  {
   "cell_type": "code",
   "execution_count": 7,
   "metadata": {
    "scrolled": true
   },
   "outputs": [],
   "source": [
    "output = solver.test(trainloader)"
   ]
  },
  {
   "cell_type": "markdown",
   "metadata": {},
   "source": [
    "#### Evaluation\n",
    "visualization of predicted trajectories"
   ]
  },
  {
   "cell_type": "code",
   "execution_count": 13,
   "metadata": {
    "scrolled": false
   },
   "outputs": [
    {
     "data": {
      "image/png": "[encoded data removed]",
      "text/plain": [
       "<matplotlib.figure.Figure at 0x7f3101c3f278>"
      ]
     },
     "metadata": {},
     "output_type": "display_data"
    }
   ],
   "source": [
    "vis = Visualization()\n",
    "ll = vis.trajectories(output, scenes=[11])"
   ]
  },
  {
   "cell_type": "markdown",
   "metadata": {},
   "source": [
    "### Diversity Plot"
   ]
  },
  {
   "cell_type": "code",
   "execution_count": null,
   "metadata": {},
   "outputs": [],
   "source": []
  }
 ],
 "metadata": {
  "kernelspec": {
   "display_name": "mapsgan",
   "language": "python",
   "name": "mapsgan"
  },
  "language_info": {
   "codemirror_mode": {
    "name": "ipython",
    "version": 3
   },
   "file_extension": ".py",
   "mimetype": "text/x-python",
   "name": "python",
   "nbconvert_exporter": "python",
   "pygments_lexer": "ipython3",
   "version": "3.6.0"
  }
 },
 "nbformat": 4,
 "nbformat_minor": 2
}
