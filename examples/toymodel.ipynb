{
 "cells": [
  {
   "cell_type": "markdown",
   "metadata": {},
   "source": [
    "The toy model\n",
    "to get frame, trajectory, put on lstm"
   ]
  },
  {
   "cell_type": "code",
   "execution_count": 1,
   "metadata": {},
   "outputs": [],
   "source": [
    "import torch\n",
    "import torch.nn as nn\n",
    "from data_classes import *"
   ]
  },
  {
   "cell_type": "code",
   "execution_count": 4,
   "metadata": {},
   "outputs": [],
   "source": [
    "e = ETH()\n",
    "V = Videodata(e)\n",
    "empty_frame = V.getFrame(1)"
   ]
  },
  {
   "cell_type": "code",
   "execution_count": 15,
   "metadata": {},
   "outputs": [
    {
     "data": {
      "text/plain": [
       "(20, 4)"
      ]
     },
     "execution_count": 15,
     "metadata": {},
     "output_type": "execute_result"
    }
   ],
   "source": [
    "traj = V.read_file('/home/yy/ADL4CV/sgan/datasets/hotel/train/biwi_eth_train.txt') # all trajectories\n",
    "agent_id = 11\n",
    "traj_agent = traj[np.where(traj[:, 1]==agent_id)]\n",
    "traj_agent.shape"
   ]
  },
  {
   "cell_type": "code",
   "execution_count": 31,
   "metadata": {},
   "outputs": [
    {
     "data": {
      "text/plain": [
       "array([[  1.25100000e+01,   6.19000000e+00],\n",
       "       [  1.15400000e+01,   6.03000000e+00],\n",
       "       [  1.09600000e+01,   5.97000000e+00],\n",
       "       [  1.02900000e+01,   6.12000000e+00],\n",
       "       [  9.88000000e+00,   6.21000000e+00],\n",
       "       [  9.54000000e+00,   6.09000000e+00],\n",
       "       [  8.87000000e+00,   5.99000000e+00],\n",
       "       [  8.04000000e+00,   5.66000000e+00],\n",
       "       [  7.17000000e+00,   5.45000000e+00],\n",
       "       [  6.43000000e+00,   5.23000000e+00],\n",
       "       [  5.67000000e+00,   5.16000000e+00],\n",
       "       [  4.94000000e+00,   4.95000000e+00],\n",
       "       [  4.26000000e+00,   4.71000000e+00],\n",
       "       [  3.54000000e+00,   4.54000000e+00],\n",
       "       [  2.82000000e+00,   4.35000000e+00],\n",
       "       [  2.16000000e+00,   4.19000000e+00],\n",
       "       [  1.39000000e+00,   3.97000000e+00],\n",
       "       [  7.10000000e-01,   3.72000000e+00],\n",
       "       [  1.00000000e-02,   3.41000000e+00],\n",
       "       [ -6.30000000e-01,   3.08000000e+00]])"
      ]
     },
     "execution_count": 31,
     "metadata": {},
     "output_type": "execute_result"
    }
   ],
   "source": [
    "traj_agent[:,2::]"
   ]
  },
  {
   "cell_type": "code",
   "execution_count": 32,
   "metadata": {},
   "outputs": [
    {
     "data": {
      "text/plain": [
       "array([[  1.05000000e+03,   1.10000000e+01,   1.25100000e+01,\n",
       "          6.19000000e+00],\n",
       "       [  1.06000000e+03,   1.10000000e+01,   1.15400000e+01,\n",
       "          6.03000000e+00],\n",
       "       [  1.07000000e+03,   1.10000000e+01,   1.09600000e+01,\n",
       "          5.97000000e+00],\n",
       "       [  1.08000000e+03,   1.10000000e+01,   1.02900000e+01,\n",
       "          6.12000000e+00],\n",
       "       [  1.09000000e+03,   1.10000000e+01,   9.88000000e+00,\n",
       "          6.21000000e+00],\n",
       "       [  1.10000000e+03,   1.10000000e+01,   9.54000000e+00,\n",
       "          6.09000000e+00],\n",
       "       [  1.11000000e+03,   1.10000000e+01,   8.87000000e+00,\n",
       "          5.99000000e+00],\n",
       "       [  1.12000000e+03,   1.10000000e+01,   8.04000000e+00,\n",
       "          5.66000000e+00],\n",
       "       [  1.13000000e+03,   1.10000000e+01,   7.17000000e+00,\n",
       "          5.45000000e+00],\n",
       "       [  1.14000000e+03,   1.10000000e+01,   6.43000000e+00,\n",
       "          5.23000000e+00],\n",
       "       [  1.15000000e+03,   1.10000000e+01,   5.67000000e+00,\n",
       "          5.16000000e+00],\n",
       "       [  1.16000000e+03,   1.10000000e+01,   4.94000000e+00,\n",
       "          4.95000000e+00],\n",
       "       [  1.17000000e+03,   1.10000000e+01,   4.26000000e+00,\n",
       "          4.71000000e+00],\n",
       "       [  1.18000000e+03,   1.10000000e+01,   3.54000000e+00,\n",
       "          4.54000000e+00],\n",
       "       [  1.19000000e+03,   1.10000000e+01,   2.82000000e+00,\n",
       "          4.35000000e+00],\n",
       "       [  1.20000000e+03,   1.10000000e+01,   2.16000000e+00,\n",
       "          4.19000000e+00],\n",
       "       [  1.21000000e+03,   1.10000000e+01,   1.39000000e+00,\n",
       "          3.97000000e+00],\n",
       "       [  1.22000000e+03,   1.10000000e+01,   7.10000000e-01,\n",
       "          3.72000000e+00],\n",
       "       [  1.23000000e+03,   1.10000000e+01,   1.00000000e-02,\n",
       "          3.41000000e+00],\n",
       "       [  1.24000000e+03,   1.10000000e+01,  -6.30000000e-01,\n",
       "          3.08000000e+00]])"
      ]
     },
     "execution_count": 32,
     "metadata": {},
     "output_type": "execute_result"
    }
   ],
   "source": [
    "traj_agent"
   ]
  },
  {
   "cell_type": "code",
   "execution_count": null,
   "metadata": {},
   "outputs": [],
   "source": []
  }
 ],
 "metadata": {
  "kernelspec": {
   "display_name": "Python 3",
   "language": "python",
   "name": "python3"
  },
  "language_info": {
   "codemirror_mode": {
    "name": "ipython",
    "version": 3
   },
   "file_extension": ".py",
   "mimetype": "text/x-python",
   "name": "python",
   "nbconvert_exporter": "python",
   "pygments_lexer": "ipython3",
   "version": "3.6.3"
  }
 },
 "nbformat": 4,
 "nbformat_minor": 2
}
