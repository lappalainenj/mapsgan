{
 "cells": [
  {
   "cell_type": "markdown",
   "metadata": {},
   "source": [
    "### Diversity Score"
   ]
  },
  {
   "cell_type": "code",
   "execution_count": 25,
   "metadata": {},
   "outputs": [
    {
     "name": "stdout",
     "output_type": "stream",
     "text": [
      "The autoreload extension is already loaded. To reload it, use:\n",
      "  %reload_ext autoreload\n"
     ]
    }
   ],
   "source": [
    "%load_ext autoreload\n",
    "%autoreload 2\n",
    "import numpy as np\n",
    "import torch\n",
    "from torch import nn\n",
    "from mapsgan import BaseSolver, experiments, data_loader\n",
    "from mapsgan import ToyGenerator, ToyDiscriminator, BicycleGenerator\n",
    "from sgan import TrajectoryDiscriminator, TrajectoryGenerator\n",
    "import matplotlib.pyplot as plt"
   ]
  },
  {
   "cell_type": "markdown",
   "metadata": {},
   "source": [
    "#### Init models/ solvers"
   ]
  },
  {
   "cell_type": "code",
   "execution_count": 19,
   "metadata": {},
   "outputs": [],
   "source": [
    "in_len, out_len = 8, 12\n",
    "\n",
    "toygenerator = ToyGenerator(in_len=in_len, out_len=out_len)\n",
    "toydiscriminator = ToyDiscriminator()\n",
    "\n",
    "bicyclegenerator = BicycleGenerator(ToyGenerator, start_mode='cvae')\n",
    "\n",
    "sgangenerator = TrajectoryGenerator(obs_len=8,\n",
    "                                pred_len=12,\n",
    "                                embedding_dim=16,\n",
    "                                encoder_h_dim=32,\n",
    "                                decoder_h_dim=32,\n",
    "                                mlp_dim=64,\n",
    "                                num_layers=1,\n",
    "                                noise_dim=(8,),\n",
    "                                noise_type='gaussian',\n",
    "                                noise_mix_type='global',\n",
    "                                pooling_type='pool_net',\n",
    "                                pool_every_timestep=1,\n",
    "                                dropout=0,\n",
    "                                bottleneck_dim=32,\n",
    "                                neighborhood_size=2,\n",
    "                                grid_size=8,\n",
    "                                batch_norm=0)"
   ]
  },
  {
   "cell_type": "code",
   "execution_count": 29,
   "metadata": {},
   "outputs": [],
   "source": [
    "solver = BaseSolver(toygenerator, toydiscriminator)"
   ]
  },
  {
   "cell_type": "code",
   "execution_count": 32,
   "metadata": {},
   "outputs": [],
   "source": [
    "solver.generator = bicyclegenerator\n",
    "solver.load_generator(model_path + '/' + 'bicy_enc_1_20190117-134649_epoch_10000')"
   ]
  },
  {
   "cell_type": "code",
   "execution_count": 20,
   "metadata": {},
   "outputs": [
    {
     "data": {
      "text/plain": [
       "['bicy_enc_1_20190117-134649_epoch_10000',\n",
       " 'clr_1_20190114-160949_epoch_10000',\n",
       " 'cvae_1_20190114-154818_epoch_10000',\n",
       " 'sgan_1_20190117-055507_epoch_10000']"
      ]
     },
     "execution_count": 20,
     "metadata": {},
     "output_type": "execute_result"
    }
   ],
   "source": [
    "import os\n",
    "model_path = '../models/cloud'\n",
    "os.listdir(model_path)"
   ]
  },
  {
   "cell_type": "code",
   "execution_count": 21,
   "metadata": {},
   "outputs": [
    {
     "name": "stdout",
     "output_type": "stream",
     "text": [
      "Restoring from checkpoint\n"
     ]
    },
    {
     "data": {
      "text/plain": [
       "10000"
      ]
     },
     "execution_count": 21,
     "metadata": {},
     "output_type": "execute_result"
    }
   ],
   "source": [
    "bicyclesolver.load_checkpoint(model_path + '/' + 'bicy_enc_1_20190117-134649_epoch_10000')"
   ]
  },
  {
   "cell_type": "code",
   "execution_count": null,
   "metadata": {},
   "outputs": [],
   "source": [
    "output = bicyclesolver.test()"
   ]
  },
  {
   "cell_type": "markdown",
   "metadata": {},
   "source": [
    "### Init Data"
   ]
  },
  {
   "cell_type": "code",
   "execution_count": 26,
   "metadata": {},
   "outputs": [],
   "source": [
    "experiment = experiments.ETH() # we store filepaths and arguments in here\n",
    "dataset, trainloader = data_loader(in_len=8,\n",
    "                                   out_len=12,\n",
    "                                   batch_size=64,\n",
    "                                   num_workers=1,\n",
    "                                   path=experiment.test_dir,\n",
    "                                  shuffle=False)"
   ]
  },
  {
   "cell_type": "code",
   "execution_count": 27,
   "metadata": {
    "scrolled": true
   },
   "outputs": [],
   "source": [
    "output = bicyclesolver.test(trainloader)\n",
    "xy_out = output['xy_out']\n",
    "xy_pred = output['xy_pred']"
   ]
  },
  {
   "cell_type": "markdown",
   "metadata": {},
   "source": [
    "### Evaluation metrics"
   ]
  },
  {
   "cell_type": "code",
   "execution_count": 17,
   "metadata": {},
   "outputs": [],
   "source": [
    "xy_in = output['xy_in']\n",
    "xy_out = output['xy_out']\n",
    "xy_pred = output['xy_pred']"
   ]
  },
  {
   "cell_type": "markdown",
   "metadata": {},
   "source": [
    "### 1. Diversity\n",
    "- LPIPs distance? https://arxiv.org/pdf/1801.03924.pdf Measures (weighted) cosine distance of conv features from VGG.\n",
    "**Lets see cosine distance alone:**"
   ]
  },
  {
   "cell_type": "code",
   "execution_count": 36,
   "metadata": {},
   "outputs": [],
   "source": [
    "from scipy.spatial.distance import pdist, squareform\n",
    "import matplotlib.pyplot as plt"
   ]
  },
  {
   "cell_type": "markdown",
   "metadata": {},
   "source": [
    "##### Evaluate Diversity on whole scenes"
   ]
  },
  {
   "cell_type": "code",
   "execution_count": 29,
   "metadata": {},
   "outputs": [],
   "source": [
    "max_size = np.max([x.size for x in xy_out]) # number of features (flattend seq dimensions)\n",
    "# zero pad and flatten, to put into (obs, feature) matrix\n",
    "scenes = np.zeros([len(xy_out), max_size])\n",
    "for i, scene in enumerate(xy_out):\n",
    "    scenes[i, :scene.size] = scene.flatten()\n",
    "scenes_pred = np.zeros([len(xy_pred), max_size])\n",
    "for i, scene in enumerate(xy_pred):\n",
    "    scenes_pred[i, :scene.size] = scene.flatten()"
   ]
  },
  {
   "cell_type": "code",
   "execution_count": 47,
   "metadata": {},
   "outputs": [],
   "source": [
    "M = np.vstack((scenes, scenes_pred))\n",
    "dissimilarity = squareform(pdist(M, metric='cosine'))"
   ]
  },
  {
   "cell_type": "code",
   "execution_count": 49,
   "metadata": {},
   "outputs": [
    {
     "data": {
      "text/plain": [
       "<matplotlib.colorbar.Colorbar at 0x7fe29fae2668>"
      ]
     },
     "execution_count": 49,
     "metadata": {},
     "output_type": "execute_result"
    },
    {
     "data": {
      "image/png": "[encoded data removed]",
      "text/plain": [
       "<Figure size 288x288 with 2 Axes>"
      ]
     },
     "metadata": {},
     "output_type": "display_data"
    }
   ],
   "source": [
    "plt.matshow(dissimilarity, cmap = 'jet')\n",
    "plt.colorbar()"
   ]
  },
  {
   "cell_type": "code",
   "execution_count": 58,
   "metadata": {},
   "outputs": [
    {
     "name": "stdout",
     "output_type": "stream",
     "text": [
      "Groundtruth: 708.503486399793 Predictions: 642.898442823863\n"
     ]
    }
   ],
   "source": [
    "# groundtruth\n",
    "diver = pdist(scenes, metric='cosine')\n",
    "# predictions\n",
    "diver_pred = pdist(scenes_pred, metric='cosine')\n",
    "print(f'Groundtruth: {diver.sum()}', f'Predictions: {diver_pred.sum()}')"
   ]
  },
  {
   "cell_type": "markdown",
   "metadata": {},
   "source": [
    "Conclusion: diversity seems to be evident in these scores, **but** the single trajectories must be normalized since we want to evaluate diversity of the trajectories alone and not of the scenes themselves, since they are mainly conditioned on the initail 8 steps."
   ]
  },
  {
   "cell_type": "markdown",
   "metadata": {},
   "source": [
    "#### Norm trajectories"
   ]
  },
  {
   "cell_type": "markdown",
   "metadata": {},
   "source": [
    "Min-max scaling:\n",
    "$$\\hat{X}=\\frac{X-\\min_{x}X}{\\max_{x}X-\\min_{x}X}$$\n",
    "Reverse:\n",
    "$$X = ({\\max_{x}X-\\min_{x}X})\\cdot \\hat{X}+\\min_{x}X$$"
   ]
  },
  {
   "cell_type": "code",
   "execution_count": 333,
   "metadata": {},
   "outputs": [],
   "source": [
    "def norm_sequence(seq):\n",
    "    \"\"\"Normalizes a seq of shape (seq_len, num_agents, num_coords)\n",
    "    per trajectory.\n",
    "    \"\"\"\n",
    "    seq = np.array(seq)\n",
    "    eps = 1e-10\n",
    "    seq = seq.transpose((1, 0, 2))\n",
    "    normed = np.zeros_like(seq)\n",
    "    for i, s in enumerate(seq):\n",
    "        normed[:, i, :] = (s - s.min(axis=0)) / (s.max(axis=0) - s.min(axis=0) + eps)\n",
    "    return normed\n",
    "\n",
    "def norm_scene(scene):\n",
    "    \"\"\"Normalize all sequences within a scene.\n",
    "    \n",
    "    Args:\n",
    "        scene (list): List of sequences of shape expected by norm_sequence.\n",
    "    \"\"\"\n",
    "    normed = []\n",
    "    for seq in scene:\n",
    "        normed.append(norm_sequence(seq))\n",
    "    return normed"
   ]
  },
  {
   "cell_type": "code",
   "execution_count": 15,
   "metadata": {},
   "outputs": [],
   "source": [
    "def norm_sequence(seq):\n",
    "    \"\"\"Normalizes all trajectories in a sequence independently using\n",
    "    min-max normalization.\n",
    "\n",
    "    Args:\n",
    "        seq (tensor): Tensor of shape (num_agents, num_coords, seq_len)\n",
    "\n",
    "    Returns:\n",
    "        tensor: Tensor with normalized coordinates of the same shape as seq.\n",
    "    \"\"\"\n",
    "    eps = 1e-10\n",
    "    normed = torch.zeros_like(seq)\n",
    "    seq_min = seq.min(dim=0, keepdim=True)[0].min(dim=2, keepdim=True)[0]\n",
    "    seq_max = seq.max(dim=0, keepdim=True)[0].max(dim=2, keepdim=True)[0]\n",
    "    for i, s in enumerate(seq):\n",
    "        normed[i] = (s - seq_min) / (seq_max - seq_min + eps)\n",
    "    return normed"
   ]
  },
  {
   "cell_type": "code",
   "execution_count": 16,
   "metadata": {},
   "outputs": [
    {
     "ename": "NameError",
     "evalue": "name 'xy_in' is not defined",
     "output_type": "error",
     "traceback": [
      "\u001b[0;31m---------------------------------------------------------------------------\u001b[0m",
      "\u001b[0;31mNameError\u001b[0m                                 Traceback (most recent call last)",
      "\u001b[0;32m<ipython-input-16-272544cd76c8>\u001b[0m in \u001b[0;36m<module>\u001b[0;34m\u001b[0m\n\u001b[0;32m----> 1\u001b[0;31m \u001b[0mnorm_sequence\u001b[0m\u001b[0;34m(\u001b[0m\u001b[0mxy_in\u001b[0m\u001b[0;34m.\u001b[0m\u001b[0mpermute\u001b[0m\u001b[0;34m(\u001b[0m\u001b[0;36m1\u001b[0m\u001b[0;34m,\u001b[0m \u001b[0;36m2\u001b[0m\u001b[0;34m,\u001b[0m \u001b[0;36m0\u001b[0m\u001b[0;34m)\u001b[0m\u001b[0;34m)\u001b[0m\u001b[0;34m[\u001b[0m\u001b[0;36m0\u001b[0m\u001b[0;34m]\u001b[0m\u001b[0;34m\u001b[0m\u001b[0;34m\u001b[0m\u001b[0m\n\u001b[0m",
      "\u001b[0;31mNameError\u001b[0m: name 'xy_in' is not defined"
     ]
    }
   ],
   "source": [
    "norm_sequence(xy_in.permute(1, 2, 0))[0]"
   ]
  },
  {
   "cell_type": "code",
   "execution_count": 113,
   "metadata": {},
   "outputs": [],
   "source": [
    "q = iter(trainloader)"
   ]
  },
  {
   "cell_type": "code",
   "execution_count": 114,
   "metadata": {},
   "outputs": [],
   "source": [
    "x = next(q)"
   ]
  },
  {
   "cell_type": "code",
   "execution_count": 115,
   "metadata": {},
   "outputs": [],
   "source": [
    "xy_in = x['xy_in']"
   ]
  },
  {
   "cell_type": "code",
   "execution_count": 116,
   "metadata": {},
   "outputs": [],
   "source": [
    "seq_start_end = x['seq_start_end']"
   ]
  },
  {
   "cell_type": "code",
   "execution_count": 117,
   "metadata": {},
   "outputs": [],
   "source": [
    "start, end = seq_start_end[0]"
   ]
  },
  {
   "cell_type": "code",
   "execution_count": 122,
   "metadata": {},
   "outputs": [],
   "source": [
    "a = xy_in[start:end]"
   ]
  },
  {
   "cell_type": "code",
   "execution_count": 143,
   "metadata": {},
   "outputs": [
    {
     "data": {
      "text/plain": [
       "tensor([[[0.0000, 0.0000],\n",
       "         [0.0000, 0.0000],\n",
       "         [0.0000, 0.0000],\n",
       "         ...,\n",
       "         [0.0000, 0.0000],\n",
       "         [0.0000, 0.0000],\n",
       "         [0.0000, 0.0000]],\n",
       "\n",
       "        [[0.0000, 0.0000],\n",
       "         [0.0000, 0.0000],\n",
       "         [0.0000, 0.0000],\n",
       "         ...,\n",
       "         [0.8600, 0.4900],\n",
       "         [0.3100, 0.0000],\n",
       "         [0.5500, 0.0200]],\n",
       "\n",
       "        [[0.0000, 0.0000],\n",
       "         [0.0000, 0.0000],\n",
       "         [0.0000, 0.0000],\n",
       "         ...,\n",
       "         [1.6800, 0.9500],\n",
       "         [0.9400, 0.1200],\n",
       "         [1.1700, 0.0300]]])"
      ]
     },
     "execution_count": 143,
     "metadata": {},
     "output_type": "execute_result"
    }
   ],
   "source": [
    "a - a.min(dim=0, keepdim=True)[0].min(dim=0, keepdim=True)[0]"
   ]
  },
  {
   "cell_type": "code",
   "execution_count": 154,
   "metadata": {},
   "outputs": [
    {
     "data": {
      "text/plain": [
       "tensor([[[13.6000,  8.7000],\n",
       "         [14.6400,  9.1000],\n",
       "         [19.3300,  3.3400],\n",
       "         ...,\n",
       "         [ 4.5100,  0.7900],\n",
       "         [ 3.1800,  7.0000],\n",
       "         [ 2.7700,  7.7900]],\n",
       "\n",
       "        [[13.6000,  8.7000],\n",
       "         [14.6400,  9.1000],\n",
       "         [19.3300,  3.3400],\n",
       "         ...,\n",
       "         [ 5.3700,  1.2800],\n",
       "         [ 3.4900,  7.0000],\n",
       "         [ 3.3200,  7.8100]],\n",
       "\n",
       "        [[13.6000,  8.7000],\n",
       "         [14.6400,  9.1000],\n",
       "         [19.3300,  3.3400],\n",
       "         ...,\n",
       "         [ 6.1900,  1.7400],\n",
       "         [ 4.1200,  7.1200],\n",
       "         [ 3.9400,  7.8200]]])"
      ]
     },
     "execution_count": 154,
     "metadata": {},
     "output_type": "execute_result"
    }
   ],
   "source": [
    "a - a.min(dim=0, keepdim=True)[0].min(dim=1, keepdim=True)[0]"
   ]
  },
  {
   "cell_type": "code",
   "execution_count": 413,
   "metadata": {},
   "outputs": [],
   "source": [
    "eps = 1e-10\n",
    "seq = dataset.obs_traj\n",
    "normed = torch.zeros_like(seq)\n",
    "for i, s in enumerate(seq):\n",
    "    normed[i] = (s - s.min(dim=0)[0]) / (s.max(dim=0)[0] - s.min(dim=0)[0] + eps)"
   ]
  },
  {
   "cell_type": "code",
   "execution_count": 435,
   "metadata": {},
   "outputs": [],
   "source": [
    "x = xy_in[0][:, 0, :]"
   ]
  },
  {
   "cell_type": "code",
   "execution_count": 438,
   "metadata": {},
   "outputs": [
    {
     "data": {
      "text/plain": [
       "array([[5.0700006 , 0.        ],\n",
       "       [4.33      , 0.26999998],\n",
       "       [3.4899998 , 0.37000036],\n",
       "       [2.7000003 , 0.5300002 ],\n",
       "       [1.9300003 , 0.6500001 ],\n",
       "       [1.23      , 0.71000004],\n",
       "       [0.62000036, 0.8500004 ],\n",
       "       [0.        , 1.0100002 ]], dtype=float32)"
      ]
     },
     "execution_count": 438,
     "metadata": {},
     "output_type": "execute_result"
    }
   ],
   "source": [
    "x - x.min(axis=0)"
   ]
  },
  {
   "cell_type": "code",
   "execution_count": 423,
   "metadata": {},
   "outputs": [
    {
     "data": {
      "text/plain": [
       "tensor([[5.0700, 4.3300, 3.4900, 2.7000, 1.9300, 1.2300, 0.6200, 0.0000],\n",
       "        [0.0000, 0.2700, 0.3700, 0.5300, 0.6500, 0.7100, 0.8500, 1.0100]])"
      ]
     },
     "execution_count": 423,
     "metadata": {},
     "output_type": "execute_result"
    }
   ],
   "source": [
    "seq[0] - seq[0].min(dim=1, keepdim=True)[0]"
   ]
  },
  {
   "cell_type": "code",
   "execution_count": 400,
   "metadata": {},
   "outputs": [
    {
     "data": {
      "text/plain": [
       "[<matplotlib.lines.Line2D at 0x7fe29d4aabe0>]"
      ]
     },
     "execution_count": 400,
     "metadata": {},
     "output_type": "execute_result"
    },
    {
     "data": {
      "image/png": "[encoded data removed]",
      "text/plain": [
       "<Figure size 432x288 with 1 Axes>"
      ]
     },
     "metadata": {},
     "output_type": "display_data"
    }
   ],
   "source": [
    "plt.plot(norm_sequence(xy_out[0])[:, 0, 1])"
   ]
  },
  {
   "cell_type": "code",
   "execution_count": 401,
   "metadata": {},
   "outputs": [
    {
     "data": {
      "text/plain": [
       "[<matplotlib.lines.Line2D at 0x7fe29d647208>]"
      ]
     },
     "execution_count": 401,
     "metadata": {},
     "output_type": "execute_result"
    },
    {
     "data": {
      "image/png": "[encoded data removed]",
      "text/plain": [
       "<Figure size 432x288 with 1 Axes>"
      ]
     },
     "metadata": {},
     "output_type": "display_data"
    }
   ],
   "source": [
    "plt.plot(xy_out[0][:, 0, 1])"
   ]
  },
  {
   "cell_type": "code",
   "execution_count": 344,
   "metadata": {},
   "outputs": [
    {
     "data": {
      "text/plain": [
       "torch.Size([8, 181, 2])"
      ]
     },
     "execution_count": 344,
     "metadata": {},
     "output_type": "execute_result"
    }
   ],
   "source": [
    "dataset.obs_traj.permute(2, 0, 1)"
   ]
  },
  {
   "cell_type": "code",
   "execution_count": 389,
   "metadata": {},
   "outputs": [
    {
     "data": {
      "text/plain": [
       "tensor([0., 0., 0., 0., 0., 0., 0., 0.])"
      ]
     },
     "execution_count": 389,
     "metadata": {},
     "output_type": "execute_result"
    }
   ],
   "source": [
    "torch.zeros_like(x).min(dim = 0)[0]"
   ]
  },
  {
   "cell_type": "code",
   "execution_count": null,
   "metadata": {},
   "outputs": [],
   "source": [
    "torch.zeros_like(x).min"
   ]
  },
  {
   "cell_type": "code",
   "execution_count": 370,
   "metadata": {},
   "outputs": [],
   "source": [
    "def displacement(seq):\n",
    "    disp = torch.zeros_like(seq)\n",
    "    for i, s in enumerate(seq):\n",
    "        disp[i, :, 1:] = s[:, 1:] - s[:, :-1]\n",
    "    return disp"
   ]
  },
  {
   "cell_type": "code",
   "execution_count": 365,
   "metadata": {},
   "outputs": [],
   "source": [
    "disp = torch.zeros_like(dataset.obs_traj)"
   ]
  },
  {
   "cell_type": "code",
   "execution_count": 369,
   "metadata": {},
   "outputs": [
    {
     "data": {
      "text/plain": [
       "torch.Size([2, 7])"
      ]
     },
     "execution_count": 369,
     "metadata": {},
     "output_type": "execute_result"
    }
   ],
   "source": [
    "disp[0, :, 1:].shape"
   ]
  },
  {
   "cell_type": "code",
   "execution_count": 380,
   "metadata": {},
   "outputs": [
    {
     "data": {
      "text/plain": [
       "(tensor([[[ 0.0000, -0.7400, -0.8400,  ..., -0.7000, -0.6100, -0.6200],\n",
       "          [ 0.0000,  0.2700,  0.1000,  ...,  0.0600,  0.1400,  0.1600]],\n",
       " \n",
       "         [[ 0.0000, -0.5500, -0.9100,  ..., -0.7700, -0.8100, -0.8200],\n",
       "          [ 0.0000,  0.1700,  0.0700,  ...,  0.0000, -0.0100,  0.0000]],\n",
       " \n",
       "         [[ 0.0000, -0.9700, -0.5800,  ..., -0.3400, -0.6700, -0.8300],\n",
       "          [ 0.0000, -0.1600, -0.0600,  ..., -0.1200, -0.1000, -0.3300]],\n",
       " \n",
       "         ...,\n",
       " \n",
       "         [[ 0.0000,  0.4600,  0.4600,  ...,  0.4300,  0.4800,  0.4200],\n",
       "          [ 0.0000, -0.0900,  0.0000,  ..., -0.1000,  0.0300,  0.0000]],\n",
       " \n",
       "         [[ 0.0000,  0.4600,  0.4600,  ...,  0.4900,  0.4600,  0.4300],\n",
       "          [ 0.0000,  0.0100, -0.0900,  ...,  0.1200,  0.0100,  0.0100]],\n",
       " \n",
       "         [[ 0.0000,  0.4600,  0.4900,  ...,  0.4800,  0.4200,  0.4700],\n",
       "          [ 0.0000,  0.0000, -0.0600,  ...,  0.0300,  0.0000,  0.0100]]]),\n",
       " tensor([[[ 0.0000, -0.7400, -0.8400,  ..., -0.7000, -0.6100, -0.6200],\n",
       "          [ 0.0000,  0.2700,  0.1000,  ...,  0.0600,  0.1400,  0.1600]],\n",
       " \n",
       "         [[ 0.0000, -0.5500, -0.9100,  ..., -0.7700, -0.8100, -0.8200],\n",
       "          [ 0.0000,  0.1700,  0.0700,  ...,  0.0000, -0.0100,  0.0000]],\n",
       " \n",
       "         [[ 0.0000, -0.9700, -0.5800,  ..., -0.3400, -0.6700, -0.8300],\n",
       "          [ 0.0000, -0.1600, -0.0600,  ..., -0.1200, -0.1000, -0.3300]],\n",
       " \n",
       "         ...,\n",
       " \n",
       "         [[ 0.0000,  0.4600,  0.4600,  ...,  0.4300,  0.4800,  0.4200],\n",
       "          [ 0.0000, -0.0900,  0.0000,  ..., -0.1000,  0.0300,  0.0000]],\n",
       " \n",
       "         [[ 0.0000,  0.4600,  0.4600,  ...,  0.4900,  0.4600,  0.4300],\n",
       "          [ 0.0000,  0.0100, -0.0900,  ...,  0.1200,  0.0100,  0.0100]],\n",
       " \n",
       "         [[ 0.0000,  0.4600,  0.4900,  ...,  0.4800,  0.4200,  0.4700],\n",
       "          [ 0.0000,  0.0000, -0.0600,  ...,  0.0300,  0.0000,  0.0100]]]))"
      ]
     },
     "execution_count": 380,
     "metadata": {},
     "output_type": "execute_result"
    }
   ],
   "source": [
    "displacement(dataset.obs_traj), dataset.obs_traj_rel"
   ]
  },
  {
   "cell_type": "code",
   "execution_count": 349,
   "metadata": {},
   "outputs": [],
   "source": [
    "x = dataset.obs_traj[0]"
   ]
  },
  {
   "cell_type": "code",
   "execution_count": 357,
   "metadata": {},
   "outputs": [
    {
     "data": {
      "text/plain": [
       "tensor([[ 0.0000, -0.7400, -0.8400, -0.7900, -0.7700, -0.7000, -0.6100, -0.6200],\n",
       "        [ 0.0000,  0.2700,  0.1000,  0.1600,  0.1200,  0.0600,  0.1400,  0.1600]])"
      ]
     },
     "execution_count": 357,
     "metadata": {},
     "output_type": "execute_result"
    }
   ],
   "source": [
    "dataset.obs_traj_rel[0]"
   ]
  },
  {
   "cell_type": "code",
   "execution_count": 355,
   "metadata": {},
   "outputs": [
    {
     "data": {
      "text/plain": [
       "tensor([[10.3100,  9.5700,  8.7300,  7.9400,  7.1700,  6.4700,  5.8600,  5.2400],\n",
       "        [ 5.9700,  6.2400,  6.3400,  6.5000,  6.6200,  6.6800,  6.8200,  6.9800]])"
      ]
     },
     "execution_count": 355,
     "metadata": {},
     "output_type": "execute_result"
    }
   ],
   "source": [
    "x"
   ]
  },
  {
   "cell_type": "code",
   "execution_count": 354,
   "metadata": {},
   "outputs": [
    {
     "data": {
      "text/plain": [
       "tensor([[-0.7400, -0.8400, -0.7900, -0.7700, -0.7000, -0.6100, -0.6200],\n",
       "        [ 0.2700,  0.1000,  0.1600,  0.1200,  0.0600,  0.1400,  0.1600]])"
      ]
     },
     "execution_count": 354,
     "metadata": {},
     "output_type": "execute_result"
    }
   ],
   "source": [
    "x[:, 1:] - y[:, :-1]"
   ]
  },
  {
   "cell_type": "code",
   "execution_count": 382,
   "metadata": {},
   "outputs": [
    {
     "data": {
      "text/plain": [
       "(8, 181, 2)"
      ]
     },
     "execution_count": 382,
     "metadata": {},
     "output_type": "execute_result"
    }
   ],
   "source": [
    "norm_sequence(dataset.obs_traj.permute(2, 0, 1)).shape"
   ]
  },
  {
   "cell_type": "code",
   "execution_count": 102,
   "metadata": {},
   "outputs": [],
   "source": [
    "normed_output ={'xy_in': norm_scene(output['xy_in']),\n",
    "              'xy_out': norm_scene(output['xy_out']),\n",
    "              'xy_pred': norm_scene(output['xy_pred'])}"
   ]
  },
  {
   "cell_type": "code",
   "execution_count": 113,
   "metadata": {},
   "outputs": [
    {
     "data": {
      "image/png": "[encoded data removed]",
      "text/plain": [
       "<Figure size 360x360 with 1 Axes>"
      ]
     },
     "metadata": {},
     "output_type": "display_data"
    }
   ],
   "source": [
    "vis.trajectories(normed_output, scenes=[1])"
   ]
  },
  {
   "cell_type": "markdown",
   "metadata": {},
   "source": [
    "#### Diversity with normed trajectories"
   ]
  },
  {
   "cell_type": "code",
   "execution_count": 115,
   "metadata": {},
   "outputs": [],
   "source": [
    "xy_out = normed_output['xy_out']\n",
    "xy_pred = normed_output['xy_pred']\n",
    "max_size = np.max([x.size for x in xy_out]) # number of features (flattend seq dimensions)\n",
    "# zero pad and flatten, to put into (obs, feature) matrix\n",
    "scenes = np.zeros([len(xy_out), max_size])\n",
    "for i, scene in enumerate(xy_out):\n",
    "    scenes[i, :scene.size] = scene.flatten()\n",
    "scenes_pred = np.zeros([len(xy_pred), max_size])\n",
    "for i, scene in enumerate(xy_pred):\n",
    "    scenes_pred[i, :scene.size] = scene.flatten()"
   ]
  },
  {
   "cell_type": "code",
   "execution_count": 188,
   "metadata": {},
   "outputs": [],
   "source": [
    "M = np.vstack((scenes, scenes_pred))\n",
    "dissimilarity = squareform(pdist(M, metric='cosine'))"
   ]
  },
  {
   "cell_type": "code",
   "execution_count": 189,
   "metadata": {},
   "outputs": [
    {
     "data": {
      "text/plain": [
       "<matplotlib.colorbar.Colorbar at 0x7fe29f76a4e0>"
      ]
     },
     "execution_count": 189,
     "metadata": {},
     "output_type": "execute_result"
    },
    {
     "data": {
      "image/png": "[encoded data removed]",
      "text/plain": [
       "<Figure size 288x288 with 2 Axes>"
      ]
     },
     "metadata": {},
     "output_type": "display_data"
    }
   ],
   "source": [
    "plt.matshow(dissimilarity, cmap = 'jet')\n",
    "plt.colorbar()"
   ]
  },
  {
   "cell_type": "markdown",
   "metadata": {},
   "source": [
    "#### Now, we nicely see how the generated output (right bottom square) is less diverse than the groundtruth output."
   ]
  },
  {
   "cell_type": "code",
   "execution_count": 118,
   "metadata": {
    "scrolled": true
   },
   "outputs": [
    {
     "name": "stdout",
     "output_type": "stream",
     "text": [
      "Groundtruth: 875.4802928263806 Predictions: 461.78947794410806\n"
     ]
    }
   ],
   "source": [
    "# groundtruth\n",
    "diver = pdist(scenes, metric='cosine')\n",
    "# predictions\n",
    "diver_pred = pdist(scenes_pred, metric='cosine')\n",
    "print(f'Groundtruth: {diver.sum()}', f'Predictions: {diver_pred.sum()}')"
   ]
  },
  {
   "cell_type": "markdown",
   "metadata": {},
   "source": [
    "#### As tensors"
   ]
  },
  {
   "cell_type": "code",
   "execution_count": 146,
   "metadata": {},
   "outputs": [],
   "source": [
    "cos = nn.CosineSimilarity(dim=0)"
   ]
  },
  {
   "cell_type": "code",
   "execution_count": 150,
   "metadata": {},
   "outputs": [
    {
     "data": {
      "text/plain": [
       "tensor(0.0221)"
      ]
     },
     "execution_count": 150,
     "metadata": {},
     "output_type": "execute_result"
    }
   ],
   "source": [
    "1 - cos(torch.Tensor(xy_out[0][:, 0, :]).flatten(), torch.Tensor(xy_out[0][:, 1, :]).flatten())"
   ]
  },
  {
   "cell_type": "code",
   "execution_count": 154,
   "metadata": {},
   "outputs": [
    {
     "data": {
      "text/plain": [
       "torch.Size([2, 12, 2])"
      ]
     },
     "execution_count": 154,
     "metadata": {},
     "output_type": "execute_result"
    }
   ],
   "source": [
    "torch.Tensor(xy_out[0]).transpose(1, 0).shape"
   ]
  },
  {
   "cell_type": "code",
   "execution_count": 43,
   "metadata": {},
   "outputs": [],
   "source": [
    "def cos_sequence(seq):\n",
    "    \"\"\"Computes the cosine distance of seq of shape (seq_len, num_agents, num_coords)\n",
    "    per trajectory.\n",
    "    \"\"\"\n",
    "    cos = nn.CosineSimilarity(dim=0)\n",
    "    eps = 1e-10\n",
    "    num_agents = seq.shape[1]\n",
    "    distance = torch.zeros([num_agents, num_agents])\n",
    "    seq = seq.transpose(1, 0)\n",
    "    ind = np.triu_indices(num_agents, k=1)\n",
    "    for i, s1 in enumerate(seq):\n",
    "        for j, s2 in enumerate(seq):\n",
    "            distance[i, j] = 1 - cos(s1.flatten(), s2.flatten())\n",
    "    return distance#[ind]\n",
    "\n",
    "def cos_scene(scene):\n",
    "    \"\"\"Summed cosine distance for all sequences within a scene.\n",
    "    \n",
    "    Args:\n",
    "        scene (list): List of sequences of shape expected by cos_sequence.\n",
    "    \"\"\"\n",
    "    distances = []\n",
    "    for seq in scene:\n",
    "        seq = torch.Tensor(seq)\n",
    "        distances.append(cos_sequence(seq).sum())\n",
    "    return sum(distances)"
   ]
  },
  {
   "cell_type": "code",
   "execution_count": 29,
   "metadata": {},
   "outputs": [],
   "source": [
    "a = torch.Tensor(output['xy_pred'][2])"
   ]
  },
  {
   "cell_type": "code",
   "execution_count": 46,
   "metadata": {},
   "outputs": [
    {
     "data": {
      "text/plain": [
       "tensor(0.7904)"
      ]
     },
     "execution_count": 46,
     "metadata": {},
     "output_type": "execute_result"
    }
   ],
   "source": [
    "cos_scene(output['xy_pred'])/cos_scene(output['xy_out'])"
   ]
  },
  {
   "cell_type": "code",
   "execution_count": null,
   "metadata": {},
   "outputs": [],
   "source": [
    "output['xy_pred'][2].transpose"
   ]
  },
  {
   "cell_type": "code",
   "execution_count": 316,
   "metadata": {},
   "outputs": [],
   "source": [
    "xy_out_T = [torch.Tensor(x) for x in xy_out]"
   ]
  },
  {
   "cell_type": "code",
   "execution_count": 317,
   "metadata": {},
   "outputs": [
    {
     "data": {
      "text/plain": [
       "tensor(37.0470)"
      ]
     },
     "execution_count": 317,
     "metadata": {},
     "output_type": "execute_result"
    }
   ],
   "source": [
    "distance_scene(xy_out_T)"
   ]
  },
  {
   "cell_type": "code",
   "execution_count": 321,
   "metadata": {},
   "outputs": [
    {
     "data": {
      "text/plain": [
       "tensor(4.9163)"
      ]
     },
     "execution_count": 321,
     "metadata": {},
     "output_type": "execute_result"
    }
   ],
   "source": [
    "xy_pred_T = [torch.Tensor(x) for x in xy_pred]\n",
    "distance_scene(xy_pred_T)"
   ]
  },
  {
   "cell_type": "code",
   "execution_count": 322,
   "metadata": {},
   "outputs": [
    {
     "data": {
      "text/plain": [
       "tensor(0.1327)"
      ]
     },
     "execution_count": 322,
     "metadata": {},
     "output_type": "execute_result"
    }
   ],
   "source": [
    "distance_scene(xy_pred_T)/distance_scene(xy_out_T)"
   ]
  },
  {
   "cell_type": "markdown",
   "metadata": {},
   "source": [
    "# 2. Realism"
   ]
  },
  {
   "cell_type": "markdown",
   "metadata": {},
   "source": [
    "### Idea 1: Given an r² value, fit linear splines on trajectories and count the number of knots (or splines) needed for such accurate interpolation. Compare the total number of knots. True trajectories should require more knots than artificial trajectories.\n",
    "\n",
    "- But, is this a measure for diversity or realism?"
   ]
  },
  {
   "cell_type": "code",
   "execution_count": 25,
   "metadata": {},
   "outputs": [],
   "source": [
    "from scipy.interpolate import UnivariateSpline"
   ]
  },
  {
   "cell_type": "code",
   "execution_count": 245,
   "metadata": {},
   "outputs": [],
   "source": [
    "x = xy_out[0][:, 0, 0]\n",
    "y = xy_out[0][:, 0, 1]"
   ]
  },
  {
   "cell_type": "code",
   "execution_count": 246,
   "metadata": {},
   "outputs": [],
   "source": [
    "spl = UnivariateSpline(x, y, k=1, s=0.05)"
   ]
  },
  {
   "cell_type": "code",
   "execution_count": 260,
   "metadata": {},
   "outputs": [
    {
     "data": {
      "text/plain": [
       "[<matplotlib.lines.Line2D at 0x7fe29e28e7b8>]"
      ]
     },
     "execution_count": 260,
     "metadata": {},
     "output_type": "execute_result"
    },
    {
     "data": {
      "image/png": "[encoded data removed]",
      "text/plain": [
       "<Figure size 432x288 with 1 Axes>"
      ]
     },
     "metadata": {},
     "output_type": "display_data"
    }
   ],
   "source": [
    "plt.plot(x, y)"
   ]
  },
  {
   "cell_type": "code",
   "execution_count": 26,
   "metadata": {},
   "outputs": [],
   "source": [
    "def num_knots(seqs):\n",
    "    num_agents = seqs.shape[1]\n",
    "    knots = np.zeros(num_agents)\n",
    "    seqs = seqs.transpose((1, 0, 2))\n",
    "    for i, seq in enumerate(seqs):\n",
    "        y = seq[:, 1]\n",
    "        x = np.linspace(0, 1, y.size)\n",
    "        spl = UnivariateSpline(x, y, k=1, s=0.05)\n",
    "        knots[i] = spl.get_knots().size\n",
    "    return knots\n",
    "\n",
    "def knots_scene(scene):\n",
    "    knots = 0\n",
    "    for seq in scene:\n",
    "        knots += num_knots(seq).sum()\n",
    "    return knots"
   ]
  },
  {
   "cell_type": "code",
   "execution_count": 31,
   "metadata": {},
   "outputs": [
    {
     "data": {
      "text/plain": [
       "389.0"
      ]
     },
     "execution_count": 31,
     "metadata": {},
     "output_type": "execute_result"
    }
   ],
   "source": [
    "xy_pred = output['xy_pred']\n",
    "knots_scene(xy_pred)"
   ]
  },
  {
   "cell_type": "markdown",
   "metadata": {},
   "source": [
    "### Idea 2: Euclidean distances. Real trajectories should not deviate much from groundtruth trajectories."
   ]
  },
  {
   "cell_type": "code",
   "execution_count": null,
   "metadata": {},
   "outputs": [],
   "source": [
    "def dist_seq(seqs):\n",
    "    num_agents = seqs.shape[1]\n",
    "    distance = np.zeros(num_agents)\n",
    "    seqs = seqs.transpose((1, 0, 2))\n",
    "    for i, seq in enumerate(seqs):\n",
    "        y = seq[:, 1]\n",
    "        x = np.linspace(0, 1, y.size)\n",
    "        spl = UnivariateSpline(x, y, k=1, s=0.05)\n",
    "        knots[i] = spl.get_knots().size\n",
    "    return knots\n",
    "\n",
    "def knots_scene(scene):\n",
    "    knots = 0\n",
    "    for seq in scene:\n",
    "        knots += num_knots(seq).sum()\n",
    "    return knots"
   ]
  },
  {
   "cell_type": "code",
   "execution_count": 270,
   "metadata": {},
   "outputs": [],
   "source": [
    "mse = nn.MSELoss()"
   ]
  },
  {
   "cell_type": "code",
   "execution_count": 276,
   "metadata": {},
   "outputs": [
    {
     "data": {
      "text/plain": [
       "tensor(0.0186)"
      ]
     },
     "execution_count": 276,
     "metadata": {},
     "output_type": "execute_result"
    }
   ],
   "source": [
    "mse(torch.Tensor(xy_out[0]), torch.Tensor(xy_pred[0]))"
   ]
  },
  {
   "cell_type": "markdown",
   "metadata": {},
   "source": [
    "# Conclusions: Normalizing the dataset is not feasible so far. Normalizing the predictions before evaluating similarity might make sense tho.\n",
    "Next steps:\n",
    "- continue implementing cosine similarity, knots, collisions into evaluation\n",
    "- implement proper checkpoint/saving as solver.save\n",
    "- loading as solver.load\n",
    "- write script to train\n",
    "- train toymodel on gcloud with real train data"
   ]
  },
  {
   "cell_type": "code",
   "execution_count": null,
   "metadata": {},
   "outputs": [],
   "source": []
  }
 ],
 "metadata": {
  "kernelspec": {
   "display_name": "Python (mapsgan)",
   "language": "python",
   "name": "mapsgan"
  },
  "language_info": {
   "codemirror_mode": {
    "name": "ipython",
    "version": 3
   },
   "file_extension": ".py",
   "mimetype": "text/x-python",
   "name": "python",
   "nbconvert_exporter": "python",
   "pygments_lexer": "ipython3",
   "version": "3.7.1"
  }
 },
 "nbformat": 4,
 "nbformat_minor": 2
}
