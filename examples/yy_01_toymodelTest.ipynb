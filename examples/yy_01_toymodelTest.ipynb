{
 "cells": [
  {
   "cell_type": "markdown",
   "metadata": {},
   "source": [
    "### Toymodel Train Test Evaluation"
   ]
  },
  {
   "cell_type": "code",
   "execution_count": 1,
   "metadata": {},
   "outputs": [
    {
     "name": "stdout",
     "output_type": "stream",
     "text": [
      "env: CUDA_VISIBLE_DEVICES=0\n"
     ]
    }
   ],
   "source": [
    "%load_ext autoreload\n",
    "%autoreload 2\n",
    "import numpy as np\n",
    "import torch\n",
    "from torch import nn\n",
    "from mapsgan import Solver, ToyGenerator, ToyDiscriminator, data_loader\n",
    "import mapsgan.experiments as experiments\n",
    "from mapsgan.evaluation import Visualization\n",
    "%env CUDA_VISIBLE_DEVICES=0"
   ]
  },
  {
   "cell_type": "markdown",
   "metadata": {},
   "source": [
    "#### Set up dataloader, model, solver"
   ]
  },
  {
   "cell_type": "code",
   "execution_count": 2,
   "metadata": {},
   "outputs": [],
   "source": [
    "experiment = experiments.ETH() # we store filepaths and arguments in here\n",
    "dataset, trainloader = data_loader(in_len=8, out_len=12, batch_size=64, num_workers=1, path=experiment.test_dir)"
   ]
  },
  {
   "cell_type": "code",
   "execution_count": 3,
   "metadata": {},
   "outputs": [],
   "source": [
    "generator = ToyGenerator(in_len=8, out_len=12)\n",
    "discriminator = ToyDiscriminator()"
   ]
  },
  {
   "cell_type": "code",
   "execution_count": 4,
   "metadata": {},
   "outputs": [],
   "source": [
    "solver = Solver(generator, discriminator, \n",
    "                loss_fns={'norm': nn.L1Loss, 'gan': nn.BCEWithLogitsLoss},\n",
    "                optims_args={'generator': {'lr': 1e-2}, 'discriminator': {'lr': 1e-2}})"
   ]
  },
  {
   "cell_type": "markdown",
   "metadata": {},
   "source": [
    "#### Training"
   ]
  },
  {
   "cell_type": "code",
   "execution_count": 5,
   "metadata": {},
   "outputs": [
    {
     "name": "stdout",
     "output_type": "stream",
     "text": [
      "G_gan: 0.605\tG_norm: 0.315\tG_total: 0.920\tD_real: 0.626\tD_fake: 0.835\tD_total: 1.461\t\n"
     ]
    }
   ],
   "source": [
    "solver.train(trainloader, epochs = 10, checkpoint_every=10, steps = {'generator': 1, 'discriminator': 1})"
   ]
  },
  {
   "cell_type": "markdown",
   "metadata": {},
   "source": [
    "#### Test"
   ]
  },
  {
   "cell_type": "code",
   "execution_count": 6,
   "metadata": {
    "scrolled": true
   },
   "outputs": [],
   "source": [
    "output = solver.test(trainloader)"
   ]
  },
  {
   "cell_type": "code",
   "execution_count": 29,
   "metadata": {
    "scrolled": true
   },
   "outputs": [
    {
     "name": "stdout",
     "output_type": "stream",
     "text": [
      "13.43\n",
      "12.67\n"
     ]
    }
   ],
   "source": [
    "max_x = 0\n",
    "max_y = 0\n",
    "for s in range(70):\n",
    "    max_tempx = np.max(output['xy_in'][s][:,:,0])\n",
    "    max_tempy = np.max(output['xy_in'][s][:,:,1])\n",
    "    if max_tempx > max_x:\n",
    "        max_x = max_tempx\n",
    "    if max_tempy > max_y:\n",
    "        max_y = max_tempy\n",
    "print(max_x)\n",
    "print(max_y)"
   ]
  },
  {
   "cell_type": "code",
   "execution_count": 30,
   "metadata": {},
   "outputs": [
    {
     "name": "stdout",
     "output_type": "stream",
     "text": [
      "13.89\n",
      "9.95\n"
     ]
    }
   ],
   "source": [
    "max_x = 0\n",
    "max_y = 0\n",
    "for s in range(70):\n",
    "    max_tempx = np.max(output['xy_out'][s][:,:,0])\n",
    "    max_tempy = np.max(output['xy_out'][s][:,:,1])\n",
    "    if max_tempx > max_x:\n",
    "        max_x = max_tempx\n",
    "    if max_tempy > max_y:\n",
    "        max_y = max_tempy\n",
    "print(max_x)\n",
    "print(max_y)"
   ]
  },
  {
   "cell_type": "markdown",
   "metadata": {},
   "source": [
    "#### Evaluation\n",
    "visualization of predicted trajectories"
   ]
  },
  {
   "cell_type": "code",
   "execution_count": 51,
   "metadata": {
    "scrolled": false
   },
   "outputs": [
    {
     "ename": "SyntaxError",
     "evalue": "invalid syntax (<ipython-input-51-beab368e7567>, line 2)",
     "output_type": "error",
     "traceback": [
      "\u001b[0;36m  File \u001b[0;32m\"<ipython-input-51-beab368e7567>\"\u001b[0;36m, line \u001b[0;32m2\u001b[0m\n\u001b[0;31m    ll = vis.trajectories(output, scenes=[1:3])\u001b[0m\n\u001b[0m                                           ^\u001b[0m\n\u001b[0;31mSyntaxError\u001b[0m\u001b[0;31m:\u001b[0m invalid syntax\n"
     ]
    }
   ],
   "source": [
    "vis = Visualization()\n",
    "ll = vis.trajectories(output, scenes=[1,2,3])"
   ]
  },
  {
   "cell_type": "code",
   "execution_count": null,
   "metadata": {},
   "outputs": [],
   "source": []
  }
 ],
 "metadata": {
  "kernelspec": {
   "display_name": "mapsgan",
   "language": "python",
   "name": "mapsgan"
  },
  "language_info": {
   "codemirror_mode": {
    "name": "ipython",
    "version": 3
   },
   "file_extension": ".py",
   "mimetype": "text/x-python",
   "name": "python",
   "nbconvert_exporter": "python",
   "pygments_lexer": "ipython3",
   "version": "3.6.0"
  }
 },
 "nbformat": 4,
 "nbformat_minor": 2
}
