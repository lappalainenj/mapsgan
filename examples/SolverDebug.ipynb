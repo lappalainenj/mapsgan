{
 "cells": [
  {
   "cell_type": "code",
   "execution_count": 1,
   "metadata": {},
   "outputs": [],
   "source": [
    "import torch\n",
    "import torch.nn as nn\n",
    "from torchvision import transforms\n",
    "import numpy as np\n",
    "from PIL import Image\n",
    "\n",
    "from mapsgan import Trajectories\n",
    "from mapsgan.modules import *\n",
    "%load_ext autoreload\n",
    "%autoreload 2"
   ]
  },
  {
   "cell_type": "code",
   "execution_count": 2,
   "metadata": {},
   "outputs": [],
   "source": [
    "data = Trajectories('/mnt/Clouds/MapsGAN/data/eth/test')"
   ]
  },
  {
   "cell_type": "code",
   "execution_count": 3,
   "metadata": {},
   "outputs": [],
   "source": [
    "socen = SocialEncoder()\n",
    "#socatt = SocialAttention()\n",
    "phyen = PhysicalEncoder('resnet')\n",
    "att = Attention()\n",
    "#phyatt = PhysicalAttention()\n",
    "decoder = DecoderGAN(input_dim=544)\n",
    "discriminator = Discriminator()"
   ]
  },
  {
   "cell_type": "code",
   "execution_count": 10,
   "metadata": {},
   "outputs": [],
   "source": [
    "hidden = decoder.init_hidden()\n",
    "\n",
    "sorted_seq = socen(data[0]['train'], data[0]['distances'])"
   ]
  },
  {
   "cell_type": "code",
   "execution_count": 7,
   "metadata": {},
   "outputs": [],
   "source": [
    "img = Image.open('../../data/eth/eth_static.jpg')\n",
    "\n",
    "transform = transforms.Compose([transforms.ToTensor()\n",
    "                    ,transforms.Normalize(mean=[0.485, 0.456, 0.406],\n",
    "                                        std=[0.229, 0.224, 0.225])])\n",
    "\n",
    "resnet_feat = phyen(transform(img))"
   ]
  },
  {
   "cell_type": "code",
   "execution_count": 17,
   "metadata": {},
   "outputs": [],
   "source": [
    "generated = torch.zeros(12, 32, 2)\n",
    "for i in range(12):\n",
    "    att_feats = att(sorted_seq, resnet_feat, hidden)\n",
    "    hidden, out = decoder(att_feats)\n",
    "    generated[i] = out"
   ]
  },
  {
   "cell_type": "code",
   "execution_count": 25,
   "metadata": {},
   "outputs": [
    {
     "data": {
      "text/plain": [
       "(torch.Size([12, 32, 2]), torch.Size([12, 32, 2]))"
      ]
     },
     "execution_count": 25,
     "metadata": {},
     "output_type": "execute_result"
    }
   ],
   "source": [
    "generated.shape, data[0]['groundtruth'].shape"
   ]
  },
  {
   "cell_type": "code",
   "execution_count": 72,
   "metadata": {},
   "outputs": [],
   "source": [
    "randtruth = torch.Tensor(32).uniform_().bernoulli()"
   ]
  },
  {
   "cell_type": "code",
   "execution_count": 76,
   "metadata": {},
   "outputs": [
    {
     "ename": "RuntimeError",
     "evalue": "invalid argument 0: Tensors must have same number of dimensions: got 3 and 2 at /opt/conda/conda-bld/pytorch-cpu_1532578932944/work/aten/src/TH/generic/THTensorMath.cpp:3607",
     "traceback": [
      "\u001b[0;31m---------------------------------------------------------------------------\u001b[0m",
      "\u001b[0;31mRuntimeError\u001b[0m                              Traceback (most recent call last)",
      "\u001b[0;32m<ipython-input-76-651960eed60e>\u001b[0m in \u001b[0;36m<module>\u001b[0;34m\u001b[0m\n\u001b[0;32m----> 1\u001b[0;31m \u001b[0mtorch\u001b[0m\u001b[0;34m.\u001b[0m\u001b[0mcat\u001b[0m\u001b[0;34m(\u001b[0m\u001b[0;34m(\u001b[0m\u001b[0mdata\u001b[0m\u001b[0;34m[\u001b[0m\u001b[0;36m0\u001b[0m\u001b[0;34m]\u001b[0m\u001b[0;34m[\u001b[0m\u001b[0;34m'train'\u001b[0m\u001b[0;34m]\u001b[0m\u001b[0;34m,\u001b[0m \u001b[0mgenerated\u001b[0m\u001b[0;34m[\u001b[0m\u001b[0;34m:\u001b[0m\u001b[0;34m,\u001b[0m\u001b[0magent\u001b[0m\u001b[0;34m,\u001b[0m\u001b[0;34m:\u001b[0m\u001b[0;34m]\u001b[0m\u001b[0;34m)\u001b[0m\u001b[0;34m,\u001b[0m \u001b[0mdim\u001b[0m \u001b[0;34m=\u001b[0m \u001b[0;36m0\u001b[0m\u001b[0;34m)\u001b[0m\u001b[0;34m\u001b[0m\u001b[0m\n\u001b[0m",
      "\u001b[0;31mRuntimeError\u001b[0m: invalid argument 0: Tensors must have same number of dimensions: got 3 and 2 at /opt/conda/conda-bld/pytorch-cpu_1532578932944/work/aten/src/TH/generic/THTensorMath.cpp:3607"
     ],
     "output_type": "error"
    }
   ],
   "source": [
    "torch.cat((data[0]['train'], generated[:,agent,:]), dim = 0)"
   ]
  },
  {
   "cell_type": "code",
   "execution_count": 80,
   "metadata": {},
   "outputs": [
    {
     "data": {
      "text/plain": [
       "(torch.Size([8, 32, 2]), torch.Size([12, 32, 2]))"
      ]
     },
     "execution_count": 80,
     "metadata": {},
     "output_type": "execute_result"
    }
   ],
   "source": [
    "data[0]['train'].shape, generated.shape"
   ]
  },
  {
   "cell_type": "code",
   "execution_count": 81,
   "metadata": {},
   "outputs": [
    {
     "data": {
      "text/plain": [
       "0"
      ]
     },
     "execution_count": 81,
     "metadata": {},
     "output_type": "execute_result"
    }
   ],
   "source": []
  },
  {
   "cell_type": "code",
   "execution_count": 124,
   "metadata": {},
   "outputs": [],
   "source": [
    "trajectories = torch.zeros(20, 32, 2)\n",
    "for agent, val in enumerate(randtruth):\n",
    "    if val == 0.:\n",
    "        trajectories[:,agent] = torch.cat((data[0]['train'][:, agent], generated[:,agent]), dim = 0)\n",
    "    else:\n",
    "        trajectories[:,agent] = torch.cat((data[0]['train'][:, agent], data[0]['groundtruth'][:, agent]), dim = 0)\n",
    "        "
   ]
  },
  {
   "cell_type": "code",
   "execution_count": 127,
   "metadata": {},
   "outputs": [
    {
     "data": {
      "text/plain": [
       "tensor([0., 1., 0., 0., 0., 1., 0., 0., 0., 0., 1., 0., 0., 1., 0., 0., 0., 1.,\n",
       "        1., 1., 1., 0., 0., 1., 1., 1., 1., 0., 1., 0., 1., 0.])"
      ]
     },
     "execution_count": 127,
     "metadata": {},
     "output_type": "execute_result"
    }
   ],
   "source": [
    "randtruth"
   ]
  },
  {
   "cell_type": "code",
   "execution_count": 129,
   "metadata": {},
   "outputs": [
    {
     "data": {
      "text/plain": [
       "tensor([[0.0000, 0.0000],\n",
       "        [0.0000, 0.0000],\n",
       "        [0.0000, 0.0000],\n",
       "        [0.0000, 0.0000],\n",
       "        [0.0000, 0.0000],\n",
       "        [0.0000, 0.0000],\n",
       "        [0.0000, 0.0000],\n",
       "        [0.0000, 0.0000],\n",
       "        [0.0000, 0.1242],\n",
       "        [0.0000, 0.1221],\n",
       "        [0.0000, 0.1222],\n",
       "        [0.0000, 0.1192],\n",
       "        [0.0000, 0.1213],\n",
       "        [0.0000, 0.1223],\n",
       "        [0.0000, 0.1255],\n",
       "        [0.0000, 0.1206],\n",
       "        [0.0000, 0.1228],\n",
       "        [0.0000, 0.1272],\n",
       "        [0.0000, 0.1239],\n",
       "        [0.0000, 0.1242]], grad_fn=<SelectBackward>)"
      ]
     },
     "execution_count": 129,
     "metadata": {},
     "output_type": "execute_result"
    }
   ],
   "source": [
    "trajectories[:, 2]"
   ]
  },
  {
   "cell_type": "code",
   "execution_count": 47,
   "metadata": {},
   "outputs": [
    {
     "data": {
      "text/plain": [
       "tensor([[0.0608],\n",
       "        [0.0608],\n",
       "        [0.0608],\n",
       "        [0.0608],\n",
       "        [0.0608],\n",
       "        [0.0608],\n",
       "        [0.0608],\n",
       "        [0.0608],\n",
       "        [0.0608],\n",
       "        [0.0608],\n",
       "        [0.0608],\n",
       "        [0.0608],\n",
       "        [0.0608],\n",
       "        [0.0608],\n",
       "        [0.0608],\n",
       "        [0.0608],\n",
       "        [0.0608],\n",
       "        [0.0608],\n",
       "        [0.0608],\n",
       "        [0.0608],\n",
       "        [0.0608],\n",
       "        [0.0608],\n",
       "        [0.0608],\n",
       "        [0.0608],\n",
       "        [0.0608],\n",
       "        [0.0608],\n",
       "        [0.0608],\n",
       "        [0.0608],\n",
       "        [0.0608],\n",
       "        [0.0608],\n",
       "        [0.0608],\n",
       "        [0.0608]], grad_fn=<ThAddmmBackward>)"
      ]
     },
     "execution_count": 47,
     "metadata": {},
     "output_type": "execute_result"
    }
   ],
   "source": [
    "discriminator(out)"
   ]
  },
  {
   "cell_type": "code",
   "execution_count": 44,
   "metadata": {},
   "outputs": [
    {
     "data": {
      "text/plain": [
       "torch.Size([20, 32])"
      ]
     },
     "execution_count": 44,
     "metadata": {},
     "output_type": "execute_result"
    }
   ],
   "source": [
    "data[0]['lossmask'].shape"
   ]
  },
  {
   "cell_type": "code",
   "execution_count": null,
   "metadata": {},
   "outputs": [],
   "source": [
    "class Solver():\n",
    "    default_adam_args = {\"lr\": 1e-3,\n",
    "                     \"betas\": (0.9, 0.999),\n",
    "                     \"eps\": 1e-8,\n",
    "                     \"weight_decay\": 0.0}\n",
    "\n",
    "    def __init__(self, optim=torch.optim.Adam, optim_args={},\n",
    "                 loss_func=torch.nn.CrossEntropyLoss()):\n",
    "        self.optim_args = self.default_adam_args\n",
    "        if optim_args:\n",
    "            self.optim_args = optim_args\n",
    "        self.optim = optim\n",
    "        self.loss_func = loss_func\n",
    "        self._reset_histories()\n",
    "\n",
    "    def _reset_histories(self):\n",
    "        \"\"\"\n",
    "        Resets train and val histories for the accuracy and the loss.\n",
    "        \"\"\"\n",
    "        self.train_loss_history = []\n",
    "        self.train_acc_history = []\n",
    "        self.test_loss_history = []\n",
    "        self.test_acc_history = []\n",
    "        self.best_acc = 0\n",
    "\n",
    "    def train(self, models, train_loader, epoch):\n",
    "        \"\"\"\n",
    "        Train a given model with the provided data.\n",
    "        \"\"\"\n",
    "        model.train()\n",
    "        optim = self.optim(filter(lambda p: p.requires_grad, model.parameters()), **self.optim_args)\n",
    "\n",
    "        if torch.cuda.is_available():\n",
    "            model.cuda()\n",
    "\n",
    "        print('\\nEpoch: %d' % epoch)\n",
    "        train_loss = 0\n",
    "        correct = 0\n",
    "        total = 0\n",
    "        for batch_idx, (targets, inputs) in enumerate(train_loader, 1):\n",
    "            \n",
    "            optim.zero_grad()\n",
    "                            \n",
    "            #if model.is_cuda:\n",
    "            #    inputs = inputs.cuda()\n",
    "            #    targets = targets.cuda()\n",
    "                \n",
    "            outputs = model(inputs)['layer8'].squeeze()\n",
    "            \n",
    "            loss = self.loss_func(outputs, targets)\n",
    "                            \n",
    "            loss.backward()\n",
    "            optim.step()\n",
    "            \n",
    "            train_loss += loss.item()\n",
    "            _, predicted = outputs.max(1)\n",
    "            total += targets.size(0)\n",
    "            correct += predicted.eq(targets).sum().item()\n",
    "            self.train_loss_history.append(loss.data.cpu().numpy())\n",
    "            self.train_acc_history.append(100.*correct/total)\n",
    "            print('Loss: %.3f | Acc: %.3f%% (%d/%d)'\n",
    "            % (train_loss/(batch_idx+1), 100.*correct/total, correct, total))"
   ]
  }
 ],
 "metadata": {
  "kernelspec": {
   "display_name": "Python (mapsgan)",
   "language": "python",
   "name": "mapsgan"
  },
  "language_info": {
   "codemirror_mode": {
    "name": "ipython",
    "version": 3
   },
   "file_extension": ".py",
   "mimetype": "text/x-python",
   "name": "python",
   "nbconvert_exporter": "python",
   "pygments_lexer": "ipython3",
   "version": "3.7.0"
  }
 },
 "nbformat": 4,
 "nbformat_minor": 2
}
