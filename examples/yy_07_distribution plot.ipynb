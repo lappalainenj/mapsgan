{
 "cells": [
  {
   "cell_type": "markdown",
   "metadata": {},
   "source": [
    "### Evaluation notebook for trained and saved models"
   ]
  },
  {
   "cell_type": "code",
   "execution_count": 27,
   "metadata": {},
   "outputs": [
    {
     "name": "stdout",
     "output_type": "stream",
     "text": [
      "The autoreload extension is already loaded. To reload it, use:\n",
      "  %reload_ext autoreload\n",
      "env: CUDA_VISIBLE_DEVICES=''\n"
     ]
    }
   ],
   "source": [
    "%load_ext autoreload\n",
    "%autoreload 2\n",
    "%env CUDA_VISIBLE_DEVICES=''\n",
    "import numpy as np\n",
    "import torch\n",
    "from torch import nn\n",
    "from mapsgan import Solver, SGANSolver, cLRSolver, cVAESolver , BicycleGenerator, ToyGenerator, ToyDiscriminator, data_loader\n",
    "import mapsgan.experiments as experiments\n",
    "from mapsgan.evaluation import Visualization\n",
    "from pathlib import Path\n",
    "import os, glob\n",
    "import matplotlib.pyplot as plt\n",
    "from mapsgan.utils import smooth_data"
   ]
  },
  {
   "cell_type": "code",
   "execution_count": 40,
   "metadata": {},
   "outputs": [],
   "source": [
    "experiment = experiments.ETH() # we store filepaths and arguments in here\n",
    "\n",
    "_ , testloader = data_loader(in_len=8, out_len=12, batch_size=1, num_workers=1, path=experiment.test_dir,\n",
    "                                  shuffle=False)"
   ]
  },
  {
   "cell_type": "code",
   "execution_count": 41,
   "metadata": {},
   "outputs": [],
   "source": [
    "model_nicknames = ['toy', 'clr', 'cvae', 'bicy']#, 'sgan_bicy', 'sgan']"
   ]
  },
  {
   "cell_type": "code",
   "execution_count": 42,
   "metadata": {},
   "outputs": [
    {
     "data": {
      "text/plain": [
       "['/home/yy/ADL4CV/mapsgan/models/fav/toymodel_2_20190205-230617_epoch_5000']"
      ]
     },
     "execution_count": 42,
     "metadata": {},
     "output_type": "execute_result"
    }
   ],
   "source": [
    "model_nickname = model_nicknames[0]\n",
    "fileprefix = '/fav/*' + model_nickname + '*'\n",
    "root_path = os.path.abspath(os.path.join(os.getcwd(), os.pardir))\n",
    "filesearch = root_path + '/models' + fileprefix + '*5000*' # can change here acc to saved epoch\n",
    "filelist = glob.glob(filesearch)\n",
    "filelist.sort()\n",
    "filelist\n",
    "# filename=filelist[0]\n",
    "# print(filename)\n",
    "# solver.load_checkpoint(filename)"
   ]
  },
  {
   "cell_type": "code",
   "execution_count": 43,
   "metadata": {},
   "outputs": [],
   "source": [
    "if model_nickname == 'toy':\n",
    "    generator = ToyGenerator(in_len=8, out_len=12)\n",
    "    discriminator = ToyDiscriminator()\n",
    "    solver = Solver(generator, discriminator)\n",
    "elif model_nickname == 'sgan':\n",
    "    model_path = '../../sgan/sgan/models/sgan-p-models/'\n",
    "    model = 'eth_12_model.pt'\n",
    "    ###\n",
    "    checkpoint = torch.load(model_path + model, map_location='cpu')\n",
    "    generator_sgan = get_sgan_generator(checkpoint)\n",
    "    generator = BicycleGenerator(generator=generator_sgan,\n",
    "                                 start_mode=mode,\n",
    "                                 embedding_dim=embedding_dim,\n",
    "                                 h_dim=decoder_h_dim - 8,\n",
    "                                 z_dim=8,\n",
    "                                 in_len=obs_len,\n",
    "                                 out_len=pred_len,\n",
    "                                 noise_type=noise_type,\n",
    "                                 noise_mix_type=noise_mix_type)\n",
    "\n",
    "    discriminator = TrajectoryDiscriminator(obs_len=8,\n",
    "                                            pred_len=12,\n",
    "                                            embedding_dim=16,\n",
    "                                            h_dim=64,\n",
    "                                            mlp_dim=64,\n",
    "                                            num_layers=1,\n",
    "                                            dropout=0,\n",
    "                                            batch_norm=0,\n",
    "                                            d_type='local')\n",
    "    solver = SGANSolver(generator, discriminator, experiment=experiment, \n",
    "                loss_fns={'norm': nn.L1Loss, 'gan': nn.BCEWithLogitsLoss},\n",
    "                optims_args={'generator': {'lr': lr_gen}, 'discriminator': {'lr': lr_dis}})\n",
    "else:# bicy or others\n",
    "    generator = BicycleGenerator(generator=ToyGenerator, start_mode='clr')\n",
    "    discriminator = ToyDiscriminator()\n",
    "    solver = cLRSolver(generator, discriminator, \n",
    "                optims_args={'generator': {'lr': lr_gen}, 'discriminator': {'lr': lr_dis}})"
   ]
  },
  {
   "cell_type": "code",
   "execution_count": 48,
   "metadata": {},
   "outputs": [],
   "source": [
    "epochs = solver.load_checkpoint(filelist[0])"
   ]
  },
  {
   "cell_type": "markdown",
   "metadata": {},
   "source": [
    "### Set these manually according to the script"
   ]
  },
  {
   "cell_type": "markdown",
   "metadata": {},
   "source": [
    "### Looking at predictions"
   ]
  },
  {
   "cell_type": "code",
   "execution_count": 49,
   "metadata": {},
   "outputs": [],
   "source": [
    "vis = Visualization()"
   ]
  },
  {
   "cell_type": "code",
   "execution_count": 52,
   "metadata": {},
   "outputs": [
    {
     "data": {
      "image/png": "[encoded data removed]",
      "text/plain": [
       "<matplotlib.figure.Figure at 0x7f1231a61550>"
      ]
     },
     "metadata": {},
     "output_type": "display_data"
    }
   ],
   "source": [
    "for s in [42]:#[3,25,30,44,65]:\n",
    "    predictions = solver.sample_distribution(testloader, scene=s, seed=10, z_dim=8, num_samples=5)\n",
    "    vis.trajectories(predictions, scenes=None, input_truth=True, dist=True, ground_truth=False, title=model_nickname )\n",
    "    figname = 'dist_' + model_nickname + '.png'\n",
    "    plt.savefig(figname)\n",
    "    plt.show()"
   ]
  }
 ],
 "metadata": {
  "kernelspec": {
   "display_name": "mapsgan",
   "language": "python",
   "name": "mapsgan"
  },
  "language_info": {
   "codemirror_mode": {
    "name": "ipython",
    "version": 3
   },
   "file_extension": ".py",
   "mimetype": "text/x-python",
   "name": "python",
   "nbconvert_exporter": "python",
   "pygments_lexer": "ipython3",
   "version": "3.6.0"
  }
 },
 "nbformat": 4,
 "nbformat_minor": 2
}
